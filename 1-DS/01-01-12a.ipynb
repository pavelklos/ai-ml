{
 "cells": [
  {
   "cell_type": "markdown",
   "id": "2dbbede4",
   "metadata": {},
   "source": [
    "# Introduction to Jupyter Notebooks\n",
    "This notebook provides a comprehensive introduction to Jupyter notebooks, covering their purpose, installation, interface, and key features."
   ]
  },
  {
   "cell_type": "markdown",
   "id": "8cf9659b",
   "metadata": {},
   "source": [
    "## What are Jupyter Notebooks\n",
    "Jupyter notebooks are interactive documents that combine code, text, and visualizations.\n",
    "\n",
    "They are widely used in data science, machine learning, and education for tasks such as data analysis, model development, and teaching programming concepts."
   ]
  },
  {
   "cell_type": "markdown",
   "id": "fc6a291a",
   "metadata": {},
   "source": [
    "## Installing Jupyter\n",
    "To install Jupyter, you can use pip or conda:\n",
    "```bash\n",
    "# Using pip\n",
    "pip install notebook\n",
    "\n",
    "# Using conda\n",
    "conda install -c conda-forge notebook\n",
    "```"
   ]
  },
  {
   "cell_type": "markdown",
   "id": "c81957b4",
   "metadata": {},
   "source": [
    "## Jupyter Notebook Interface\n",
    "The Jupyter Notebook interface consists of:\n",
    "- **Menu bar**: Provides access to various options and settings.\n",
    "- **Toolbar**: Contains shortcuts for common actions.\n",
    "- **Notebook cells**: The main area where you write code or text."
   ]
  },
  {
   "cell_type": "markdown",
   "id": "e3f0202a",
   "metadata": {},
   "source": [
    "## Cell Types and Usage\n",
    "Jupyter notebooks support different cell types:\n",
    "- **Code cells**: For writing and executing code.\n",
    "- **Markdown cells**: For adding formatted text, images, and links.\n",
    "- **Raw cells**: For including content that is not processed by Jupyter."
   ]
  },
  {
   "cell_type": "markdown",
   "id": "fb554aec",
   "metadata": {},
   "source": [
    "## Markdown Formatting\n",
    "Markdown cells allow you to format text using Markdown syntax. Examples:\n",
    "- **Headers**: `# Header 1`, `## Header 2`, etc.\n",
    "- **Bold**: `**bold text**`\n",
    "- **Italic**: `*italic text*`\n",
    "- **Lists**: `- Item 1`, `- Item 2`\n",
    "- **Links**: `[Link text](URL)`"
   ]
  },
  {
   "cell_type": "markdown",
   "id": "85524553",
   "metadata": {},
   "source": [
    "## Code Execution and Cell Output\n",
    "To execute a code cell, press `Shift + Enter`. The output of the code will appear below the cell. For example:\n",
    "```python\n",
    "print(\"Hello, Jupyter!\")\n",
    "```"
   ]
  },
  {
   "cell_type": "markdown",
   "id": "f8037322",
   "metadata": {},
   "source": [
    "## Working with Magic Commands\n",
    "Jupyter notebooks include magic commands for enhanced functionality. Examples:\n",
    "- `%timeit`: Measure execution time of a statement.\n",
    "- `%matplotlib inline`: Display matplotlib plots inline.\n",
    "- `%%writefile`: Save cell content to a file."
   ]
  },
  {
   "cell_type": "markdown",
   "id": "92794c65",
   "metadata": {},
   "source": [
    "## Managing Kernels\n",
    "The kernel is the computational engine that executes the code. You can:\n",
    "- Restart the kernel to clear variables and reset the environment.\n",
    "- Change the kernel to use a different programming language."
   ]
  },
  {
   "cell_type": "markdown",
   "id": "086f7d05",
   "metadata": {},
   "source": [
    "## Exporting and Sharing Notebooks\n",
    "Jupyter notebooks can be exported to various formats, such as HTML, PDF, or Python scripts. Use the `File > Download as` menu to export your notebook."
   ]
  },
  {
   "cell_type": "markdown",
   "id": "3061b5c9",
   "metadata": {},
   "source": [
    "## Jupyter Extensions\n",
    "Jupyter extensions enhance the functionality of notebooks. Examples:\n",
    "- **nbextensions**: Adds features like table of contents, code folding, etc.\n",
    "- **JupyterLab**: A more advanced interface for Jupyter notebooks."
   ]
  }
 ],
 "metadata": {
  "kernelspec": {
   "display_name": "Python 3 (ipykernel)",
   "language": "python",
   "name": "python3"
  },
  "language_info": {
   "codemirror_mode": {
    "name": "ipython",
    "version": 3
   },
   "file_extension": ".py",
   "mimetype": "text/x-python",
   "name": "python",
   "nbconvert_exporter": "python",
   "pygments_lexer": "ipython3",
   "version": "3.13.2"
  }
 },
 "nbformat": 4,
 "nbformat_minor": 5
}
