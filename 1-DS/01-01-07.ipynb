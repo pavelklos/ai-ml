{
 "cells": [
  {
   "cell_type": "markdown",
   "id": "8ee78e82",
   "metadata": {},
   "source": [
    "# Descriptive Statistics in Data Analysis\n",
    "\n",
    "This notebook explores fundamental concepts of descriptive statistics and their implementation in Python with practical examples. Descriptive statistics help us understand and summarize data through numerical calculations and visualizations."
   ]
  },
  {
   "cell_type": "markdown",
   "id": "ead4491e",
   "metadata": {},
   "source": [
    "## 1. Import Required Libraries\n",
    "\n",
    "First, let's import the necessary Python libraries that will help us work with data and perform statistical calculations."
   ]
  },
  {
   "cell_type": "code",
   "execution_count": null,
   "id": "514eabba",
   "metadata": {},
   "outputs": [],
   "source": [
    "# Import libraries for data manipulation and analysis\n",
    "import numpy as np\n",
    "import pandas as pd\n",
    "from scipy import stats\n",
    "\n",
    "# Import visualization libraries\n",
    "import matplotlib.pyplot as plt\n",
    "import seaborn as sns\n",
    "\n",
    "# Set visualization styles\n",
    "plt.style.use('seaborn-v0_8-whitegrid')\n",
    "sns.set_palette('Set2')\n",
    "plt.rcParams['figure.figsize'] = (10, 6)\n",
    "plt.rcParams['font.size'] = 12\n",
    "\n",
    "# Display settings\n",
    "pd.set_option('display.max_columns', None)\n",
    "pd.set_option('display.precision', 2)"
   ]
  },
  {
   "cell_type": "markdown",
   "id": "d4343cc2",
   "metadata": {},
   "source": [
    "## 2. Understanding Descriptive Statistics\n",
    "\n",
    "Descriptive statistics summarize and describe the main features of a dataset quantitatively. They provide simple summaries about the sample and the measures. Together with simple graphics analysis, they form the basis of virtually every quantitative analysis of data.\n",
    "\n",
    "Key purposes of descriptive statistics:\n",
    "- Summarize large datasets into interpretable values\n",
    "- Identify patterns in the data\n",
    "- Understand the distribution and spread of data\n",
    "- Detect outliers and anomalies\n",
    "- Form the foundation for further statistical analysis\n",
    "\n",
    "Let's create some sample datasets that we'll use throughout this notebook:"
   ]
  },
  {
   "cell_type": "code",
   "execution_count": null,
   "id": "e9b30e1a",
   "metadata": {},
   "outputs": [],
   "source": [
    "# Create a sample dataset representing student exam scores\n",
    "np.random.seed(42)  # For reproducibility\n",
    "exam_scores = np.random.normal(70, 15, 100).round(1)  # Mean=70, SD=15, 100 students\n",
    "\n",
    "# Create another dataset with income data (showing right skew)\n",
    "income_data = np.random.exponential(scale=50000, size=100).round(2)\n",
    "\n",
    "# Create a dataset with bimodal distribution (e.g., height data from mixed populations)\n",
    "population1 = np.random.normal(160, 5, 50)  # Women's heights (cm)\n",
    "population2 = np.random.normal(175, 6, 50)  # Men's heights (cm)\n",
    "height_data = np.concatenate([population1, population2])\n",
    "\n",
    "# Create a DataFrame with categorical and numerical data\n",
    "categories = ['Math', 'Science', 'English', 'History', 'Art']\n",
    "subjects = np.random.choice(categories, size=100)\n",
    "grades = np.random.randint(50, 100, size=100)\n",
    "hours_studied = np.random.randint(1, 12, size=100)\n",
    "\n",
    "student_data = pd.DataFrame({\n",
    "    'Subject': subjects,\n",
    "    'Grade': grades,\n",
    "    'Hours_Studied': hours_studied,\n",
    "    'Gender': np.random.choice(['Male', 'Female'], size=100)\n",
    "})\n",
    "\n",
    "# Display the first few rows of our student dataset\n",
    "student_data.head()"
   ]
  },
  {
   "cell_type": "markdown",
   "id": "e13ba94e",
   "metadata": {},
   "source": [
    "## 3. Measures of Central Tendency\n",
    "\n",
    "Measures of central tendency describe the center point of a dataset. The three main measures are:\n",
    "\n",
    "1. **Mean**: The arithmetic average of the data\n",
    "2. **Median**: The middle value when data is ordered\n",
    "3. **Mode**: The most frequently occurring value(s)\n",
    "\n",
    "Let's calculate these measures both manually and using built-in functions:"
   ]
  },
  {
   "cell_type": "code",
   "execution_count": null,
   "id": "a475a9e6-f328-4e56-849c-c269c04b920f",
   "metadata": {},
   "outputs": [],
   "source": [
    "# Calculate measures of central tendency for exam scores\n",
    "mean_score = np.mean(exam_scores)\n",
    "median_score = np.median(exam_scores)\n",
    "mode_score = stats.mode(exam_scores).mode[0]\n",
    "\n",
    "print(f\"Exam Scores Summary:\")\n",
    "print(f\"Mean: {mean_score:.2f}\")\n",
    "print(f\"Median: {median_score:.2f}\")\n",
    "print(f\"Mode: {mode_score:.2f}\")\n",
    "\n",
    "# Visualize the central tendency\n",
    "plt.figure(figsize=(12, 6))\n",
    "plt.hist(exam_scores, bins=15, alpha=0.7, color='skyblue', edgecolor='black')\n",
    "plt.axvline(mean_score, color='red', linestyle='--', linewidth=2, label=f'Mean: {mean_score:.2f}')\n",
    "plt.axvline(median_score, color='green', linestyle='-.', linewidth=2, label=f'Median: {median_score:.2f}')\n",
    "plt.axvline(mode_score, color='purple', linestyle=':', linewidth=2, label=f'Mode: {mode_score:.2f}')\n",
    "plt.legend()\n",
    "plt.title('Distribution of Exam Scores with Measures of Central Tendency')\n",
    "plt.xlabel('Score')\n",
    "plt.ylabel('Frequency')\n",
    "plt.grid(True, alpha=0.3)\n",
    "plt.show()"
   ]
  },
  {
   "cell_type": "markdown",
   "id": "7b9ca4b1-6fe6-49aa-b865-d6c913bc9890",
   "metadata": {},
   "source": [
    "### When to use which measure?\n",
    "\n",
    "- **Mean**: Best for symmetrically distributed data without extreme outliers\n",
    "- **Median**: Preferred for skewed data or data with outliers (resistant to extreme values)\n",
    "- **Mode**: Useful for categorical data or when identifying most common values\n",
    "\n",
    "Let's compare these measures across our different datasets:"
   ]
  },
  {
   "cell_type": "code",
   "execution_count": null,
   "id": "bd61b89e-e7f1-4e1c-ba8c-9fb16a20b614",
   "metadata": {},
   "outputs": [],
   "source": [
    "# Compare mean and median for different distributions\n",
    "datasets = {\n",
    "    'Exam Scores (Normal)': exam_scores,\n",
    "    'Income (Right Skewed)': income_data,\n",
    "    'Height (Bimodal)': height_data\n",
    "}\n",
    "\n",
    "comparison = {}\n",
    "for name, data in datasets.items():\n",
    "    comparison[name] = {\n",
    "        'Mean': np.mean(data),\n",
    "        'Median': np.median(data),\n",
    "        'Difference': np.mean(data) - np.median(data)\n",
    "    }\n",
    "    \n",
    "pd.DataFrame(comparison).T"
   ]
  },
  {
   "cell_type": "markdown",
   "id": "585dde1a-f799-4370-a383-5cd210fd79f1",
   "metadata": {},
   "source": [
    "## 4. Measures of Dispersion\n",
    "\n",
    "While central tendency measures tell us about the center of our data, dispersion measures tell us about the spread or variability. Key measures include:\n",
    "\n",
    "1. **Range**: The difference between the maximum and minimum values\n",
    "2. **Variance**: The average of squared deviations from the mean\n",
    "3. **Standard Deviation**: The square root of variance (same units as original data)\n",
    "4. **Interquartile Range (IQR)**: The range of the middle 50% of values\n",
    "5. **Percentiles**: Values that divide the data into hundredths"
   ]
  },
  {
   "cell_type": "code",
   "execution_count": null,
   "id": "7a89d992-affc-42e1-b396-cbf757725794",
   "metadata": {},
   "outputs": [],
   "source": [
    "# Calculate measures of dispersion for exam scores\n",
    "range_score = np.max(exam_scores) - np.min(exam_scores)\n",
    "variance_score = np.var(exam_scores)\n",
    "std_score = np.std(exam_scores)\n",
    "q1 = np.percentile(exam_scores, 25)\n",
    "q3 = np.percentile(exam_scores, 75)\n",
    "iqr = q3 - q1\n",
    "\n",
    "print(f\"Exam Scores Dispersion:\")\n",
    "print(f\"Range: {range_score:.2f}\")\n",
    "print(f\"Variance: {variance_score:.2f}\")\n",
    "print(f\"Standard Deviation: {std_score:.2f}\")\n",
    "print(f\"Interquartile Range: {iqr:.2f}\")\n",
    "print(f\"1st Quartile (25th percentile): {q1:.2f}\")\n",
    "print(f\"3rd Quartile (75th percentile): {q3:.2f}\")\n",
    "\n",
    "# Visualize with boxplot\n",
    "plt.figure(figsize=(10, 6))\n",
    "plt.boxplot(exam_scores, vert=False, patch_artist=True, \n",
    "            boxprops=dict(facecolor='lightblue'))\n",
    "plt.title('Boxplot of Exam Scores')\n",
    "plt.xlabel('Score')\n",
    "plt.grid(True, alpha=0.3)\n",
    "plt.show()"
   ]
  },
  {
   "cell_type": "markdown",
   "id": "c38e9849-d7a3-4459-953b-d0f560da7bed",
   "metadata": {},
   "source": [
    "## 5. Measures of Shape\n",
    "\n",
    "Shape measures describe the data distribution's form:\n",
    "\n",
    "1. **Skewness**: Measures symmetry or asymmetry of the distribution\n",
    "   - Positive skew: Right tail is longer (mean > median)\n",
    "   - Negative skew: Left tail is longer (mean < median)\n",
    "   - Zero skew: Symmetric distribution (mean ≈ median)\n",
    "\n",
    "2. **Kurtosis**: Measures the \"tailedness\" of the distribution\n",
    "   - High kurtosis: Heavy tails, more outliers\n",
    "   - Low kurtosis: Light tails, fewer outliers"
   ]
  },
  {
   "cell_type": "code",
   "execution_count": null,
   "id": "d2cf48be-0522-40b7-be00-572e3d7a02f3",
   "metadata": {},
   "outputs": [],
   "source": [
    "# Calculate shape measures for our datasets\n",
    "shape_stats = {}\n",
    "for name, data in datasets.items():\n",
    "    shape_stats[name] = {\n",
    "        'Skewness': stats.skew(data),\n",
    "        'Kurtosis': stats.kurtosis(data)\n",
    "    }\n",
    "    \n",
    "shape_df = pd.DataFrame(shape_stats).T\n",
    "shape_df\n",
    "\n",
    "# Visualize distributions with different shapes\n",
    "fig, axs = plt.subplots(3, 1, figsize=(12, 12))\n",
    "for i, (name, data) in enumerate(datasets.items()):\n",
    "    sns.histplot(data, kde=True, ax=axs[i])\n",
    "    axs[i].set_title(f'{name}: Skewness={shape_df.loc[name, \"Skewness\"]:.2f}, Kurtosis={shape_df.loc[name, \"Kurtosis\"]:.2f}')\n",
    "    axs[i].grid(True, alpha=0.3)\n",
    "plt.tight_layout()\n",
    "plt.show()"
   ]
  },
  {
   "cell_type": "markdown",
   "id": "c5553a69-35ae-419a-9237-84b88bd10eb9",
   "metadata": {},
   "source": [
    "## 6. Descriptive Statistics with Pandas\n",
    "\n",
    "Pandas provides several built-in methods for calculating descriptive statistics on DataFrames:"
   ]
  },
  {
   "cell_type": "code",
   "execution_count": null,
   "id": "fe56d015-5d31-4ac4-9a6d-c6fd2f1a7a1e",
   "metadata": {},
   "outputs": [],
   "source": [
    "# Get summary statistics for our student dataset\n",
    "student_data.describe()\n",
    "\n",
    "# Include categorical data\n",
    "student_data.describe(include='all')\n",
    "\n",
    "# Specific statistics for a column\n",
    "student_data['Grade'].describe()"
   ]
  },
  {
   "cell_type": "markdown",
   "id": "8b41527d-82b0-4321-8807-d3e14a5f1199",
   "metadata": {},
   "source": [
    "## 7. Descriptive Statistics by Groups\n",
    "\n",
    "Often we want to compare statistics across different groups in our data:"
   ]
  },
  {
   "cell_type": "code",
   "execution_count": null,
   "id": "1f8597bc-423d-42f9-9ffd-0c12359cca9e",
   "metadata": {},
   "outputs": [],
   "source": [
    "# Compare grades by subject\n",
    "subject_stats = student_data.groupby('Subject')['Grade'].describe()\n",
    "subject_stats\n",
    "\n",
    "# Compare grades by gender\n",
    "gender_stats = student_data.groupby('Gender')['Grade'].describe()\n",
    "gender_stats\n",
    "\n",
    "# Visualize group comparisons\n",
    "plt.figure(figsize=(12, 6))\n",
    "sns.boxplot(x='Subject', y='Grade', data=student_data)\n",
    "plt.title('Grade Distribution by Subject')\n",
    "plt.grid(True, alpha=0.3)\n",
    "plt.show()\n",
    "\n",
    "# Examine relationship between hours studied and grade\n",
    "plt.figure(figsize=(10, 6))\n",
    "sns.scatterplot(x='Hours_Studied', y='Grade', hue='Gender', data=student_data)\n",
    "plt.title('Relationship Between Hours Studied and Grade')\n",
    "plt.grid(True, alpha=0.3)\n",
    "plt.show()"
   ]
  },
  {
   "cell_type": "markdown",
   "id": "34d45e0b-7f7c-475d-87dd-5e048d25fa75",
   "metadata": {},
   "source": [
    "## 8. Correlation Analysis\n",
    "\n",
    "Correlation measures the strength and direction of the linear relationship between variables:"
   ]
  },
  {
   "cell_type": "code",
   "execution_count": null,
   "id": "bf471bad-1dce-40ef-b617-2bf0ef960622",
   "metadata": {},
   "outputs": [],
   "source": [
    "# Add a new column for visualization\n",
    "student_data['Passed'] = student_data['Grade'] >= 60\n",
    "\n",
    "# Calculate correlation between Hours_Studied and Grade\n",
    "correlation = student_data['Hours_Studied'].corr(student_data['Grade'])\n",
    "print(f\"Correlation between Hours Studied and Grade: {correlation:.2f}\")\n",
    "\n",
    "# Correlation matrix for numerical variables\n",
    "correlation_matrix = student_data.select_dtypes(include=[np.number]).corr()\n",
    "plt.figure(figsize=(8, 6))\n",
    "sns.heatmap(correlation_matrix, annot=True, cmap='coolwarm', vmin=-1, vmax=1)\n",
    "plt.title('Correlation Matrix')\n",
    "plt.show()"
   ]
  },
  {
   "cell_type": "markdown",
   "id": "7cee98bb-3bc3-4a07-89c5-587f2aa994ad",
   "metadata": {},
   "source": [
    "## 9. Practical Application\n",
    "\n",
    "Let's apply all these concepts to analyze a real dataset. We'll use the Iris flower dataset, a classic dataset in statistics and machine learning:"
   ]
  },
  {
   "cell_type": "code",
   "execution_count": null,
   "id": "3c4dfc5b-4759-455b-bab4-03a6b4baf4b5",
   "metadata": {},
   "outputs": [],
   "source": [
    "# Load the Iris dataset\n",
    "from sklearn.datasets import load_iris\n",
    "iris = load_iris()\n",
    "iris_df = pd.DataFrame(data=iris.data, columns=iris.feature_names)\n",
    "iris_df['species'] = pd.Categorical.from_codes(iris.target, iris.target_names)\n",
    "\n",
    "# Display the first few rows\n",
    "iris_df.head()\n",
    "\n",
    "# Get comprehensive descriptive statistics\n",
    "iris_stats = iris_df.describe()\n",
    "iris_stats\n",
    "\n",
    "# Descriptive statistics by species\n",
    "species_stats = iris_df.groupby('species').describe().transpose()\n",
    "species_stats\n",
    "\n",
    "# Visualize the distributions by species\n",
    "plt.figure(figsize=(15, 10))\n",
    "for i, feature in enumerate(iris.feature_names):\n",
    "    plt.subplot(2, 2, i+1)\n",
    "    for species in iris.target_names:\n",
    "        sns.kdeplot(iris_df[iris_df['species'] == species][feature], label=species)\n",
    "    plt.title(f'Distribution of {feature}')\n",
    "    plt.legend()\n",
    "plt.tight_layout()\n",
    "plt.show()"
   ]
  },
  {
   "cell_type": "markdown",
   "id": "6cf0d00f-60d9-402c-91ed-fa8d0f780ba8",
   "metadata": {},
   "source": [
    "## 10. Summary\n",
    "\n",
    "Descriptive statistics provide essential tools for understanding data:\n",
    "\n",
    "- **Measures of Central Tendency**: Mean, median, and mode help identify typical values\n",
    "- **Measures of Dispersion**: Range, variance, standard deviation, and IQR describe data spread\n",
    "- **Measures of Shape**: Skewness and kurtosis characterize distribution symmetry and tailedness\n",
    "- **Group Comparisons**: Analyzing statistics across categories reveals patterns\n",
    "- **Correlation**: Quantifies relationships between variables\n",
    "\n",
    "Key takeaways:\n",
    "1. Always explore your data with descriptive statistics before advanced analysis\n",
    "2. Choose appropriate measures based on your data distribution\n",
    "3. Combine numerical statistics with visualizations for better understanding\n",
    "4. Consider the context when interpreting statistics\n",
    "5. Be aware of how outliers can affect different statistical measures\n",
    "\n",
    "Descriptive statistics form the foundation for inferential statistics and more complex data analysis techniques."
   ]
  }
 ],
 "metadata": {
  "kernelspec": {
   "display_name": "Python 3 (ipykernel)",
   "language": "python",
   "name": "python3"
  },
  "language_info": {
   "codemirror_mode": {
    "name": "ipython",
    "version": 3
   },
   "file_extension": ".py",
   "mimetype": "text/x-python",
   "name": "python",
   "nbconvert_exporter": "python",
   "pygments_lexer": "ipython3",
   "version": "3.13.2"
  }
 },
 "nbformat": 4,
 "nbformat_minor": 5
}
