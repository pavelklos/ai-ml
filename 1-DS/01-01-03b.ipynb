{
 "cells": [
  {
   "cell_type": "markdown",
   "metadata": {},
   "source": [
    "# Introduction to NumPy Arrays"
   ]
  },
  {
   "cell_type": "markdown",
   "metadata": {},
   "source": [
    "## Installation\n",
    "Install NumPy using pip and import it."
   ]
  },
  {
   "cell_type": "code",
   "execution_count": 1,
   "metadata": {},
   "outputs": [],
   "source": [
    "# Install NumPy using pip\n",
    "# !pip install numpy\n",
    "\n",
    "# Import NumPy\n",
    "import numpy as np"
   ]
  },
  {
   "cell_type": "markdown",
   "metadata": {},
   "source": [
    "## Basic NumPy Array Creation\n",
    "Create NumPy arrays from Python lists, and use built-in functions like zeros(), ones(), arange(), linspace(), and random.rand()."
   ]
  },
  {
   "cell_type": "code",
   "execution_count": 2,
   "metadata": {},
   "outputs": [
    {
     "name": "stdout",
     "output_type": "stream",
     "text": [
      "1D array:\n",
      "[1 2 3 4 5]\n",
      "\n",
      "2D array:\n",
      "[[1 2 3]\n",
      " [4 5 6]]\n",
      "\n",
      "Zeros array:\n",
      "[[0. 0. 0. 0.]\n",
      " [0. 0. 0. 0.]\n",
      " [0. 0. 0. 0.]]\n",
      "\n",
      "Ones array:\n",
      "[[1. 1. 1.]\n",
      " [1. 1. 1.]]\n",
      "\n",
      "Empty array:\n",
      "[[6.95249696e-310 6.95249696e-310]\n",
      " [6.95249696e-310 0.00000000e+000]]\n",
      "\n",
      "Arange array:\n",
      "[0 2 4 6 8]\n",
      "\n",
      "Linspace array:\n",
      "[0.   0.25 0.5  0.75 1.  ]\n",
      "\n",
      "Random array:\n",
      "[[0.76791416 0.92896153 0.63789401]\n",
      " [0.66570223 0.43956083 0.19965579]\n",
      " [0.34703903 0.63120841 0.74024712]]\n"
     ]
    }
   ],
   "source": [
    "# Creating arrays from Python lists\n",
    "array_1d = np.array([1, 2, 3, 4, 5])  # 1D array\n",
    "array_2d = np.array([[1, 2, 3], [4, 5, 6]])  # 2D array\n",
    "\n",
    "print(\"1D array:\")\n",
    "print(array_1d)\n",
    "print(\"\\n2D array:\")\n",
    "print(array_2d)\n",
    "\n",
    "# Built-in array creation functions\n",
    "zeros = np.zeros((3, 4))  # Create array of zeros\n",
    "ones = np.ones((2, 3))  # Create array of ones\n",
    "empty = np.empty((2, 2))  # Create uninitialized array\n",
    "arange = np.arange(0, 10, 2)  # Create array with values 0, 2, 4, 6, 8\n",
    "linspace = np.linspace(0, 1, 5)  # Create array with 5 evenly spaced values\n",
    "random_array = np.random.rand(3, 3)  # Create array with random values\n",
    "\n",
    "print(\"\\nZeros array:\")\n",
    "print(zeros)\n",
    "print(\"\\nOnes array:\")\n",
    "print(ones)\n",
    "print(\"\\nEmpty array:\")\n",
    "print(empty)\n",
    "print(\"\\nArange array:\")\n",
    "print(arange)\n",
    "print(\"\\nLinspace array:\")\n",
    "print(linspace)\n",
    "print(\"\\nRandom array:\")\n",
    "print(random_array)"
   ]
  },
  {
   "cell_type": "markdown",
   "metadata": {},
   "source": [
    "## Array Attributes\n",
    "Explore array properties like shape, ndim, size, dtype, and itemsize."
   ]
  },
  {
   "cell_type": "code",
   "execution_count": 3,
   "metadata": {},
   "outputs": [
    {
     "name": "stdout",
     "output_type": "stream",
     "text": [
      "Array shape: (2, 3)\n",
      "Array dimensions: 2\n",
      "Array size: 6\n",
      "Array data type: int64\n",
      "Item size (bytes): 8\n"
     ]
    }
   ],
   "source": [
    "# Exploring array attributes\n",
    "arr = np.array([[1, 2, 3], [4, 5, 6]])  # Create a 2D array\n",
    "\n",
    "# Display array attributes\n",
    "print(\"Array shape:\", arr.shape)       # Dimensions (2, 3)\n",
    "print(\"Array dimensions:\", arr.ndim)   # Number of dimensions (2)\n",
    "print(\"Array size:\", arr.size)         # Total number of elements (6)\n",
    "print(\"Array data type:\", arr.dtype)   # Data type of elements\n",
    "print(\"Item size (bytes):\", arr.itemsize)  # Size of each element in bytes"
   ]
  },
  {
   "cell_type": "markdown",
   "metadata": {},
   "source": [
    "## Reshaping Arrays\n",
    "Demonstrate reshaping arrays using reshape() and flatten() methods."
   ]
  },
  {
   "cell_type": "code",
   "execution_count": 4,
   "metadata": {},
   "outputs": [
    {
     "name": "stdout",
     "output_type": "stream",
     "text": [
      "Original array: [ 0  1  2  3  4  5  6  7  8  9 10 11]\n",
      "\n",
      "Reshaped to 3x4:\n",
      "[[ 0  1  2  3]\n",
      " [ 4  5  6  7]\n",
      " [ 8  9 10 11]]\n",
      "\n",
      "Reshaped to 2x2x3:\n",
      "[[[ 0  1  2]\n",
      "  [ 3  4  5]]\n",
      "\n",
      " [[ 6  7  8]\n",
      "  [ 9 10 11]]]\n",
      "\n",
      "Flattened array: [ 0  1  2  3  4  5  6  7  8  9 10 11]\n"
     ]
    }
   ],
   "source": [
    "# Reshaping Arrays\n",
    "\n",
    "# Create a 1D array with 12 elements\n",
    "arr = np.arange(12)\n",
    "print(\"Original array:\", arr)\n",
    "\n",
    "# Reshape to a 3x4 array\n",
    "reshaped = arr.reshape(3, 4)\n",
    "print(\"\\nReshaped to 3x4:\")\n",
    "print(reshaped)\n",
    "\n",
    "# Reshape to a 2x2x3 array\n",
    "reshaped_3d = arr.reshape(2, 2, 3)\n",
    "print(\"\\nReshaped to 2x2x3:\")\n",
    "print(reshaped_3d)\n",
    "\n",
    "# Flatten a multi-dimensional array back to 1D\n",
    "flattened = reshaped.flatten()\n",
    "print(\"\\nFlattened array:\", flattened)"
   ]
  },
  {
   "cell_type": "markdown",
   "metadata": {},
   "source": [
    "## Basic Operations\n",
    "Perform element-wise arithmetic operations and statistical calculations on arrays."
   ]
  },
  {
   "cell_type": "code",
   "execution_count": 5,
   "metadata": {},
   "outputs": [
    {
     "name": "stdout",
     "output_type": "stream",
     "text": [
      "a + b = [11 22 33 44]\n",
      "a - b = [ 9 18 27 36]\n",
      "a * b = [ 10  40  90 160]\n",
      "a / b = [10. 10. 10. 10.]\n",
      "a ** 2 = [ 100  400  900 1600]\n",
      "\n",
      "Sum of a: 100\n",
      "Mean of a: 25.0\n",
      "Max of a: 40\n",
      "Min of a: 10\n",
      "Standard deviation of a: 11.180339887498949\n"
     ]
    }
   ],
   "source": [
    "# Basic Operations\n",
    "\n",
    "# Create two 1D arrays for arithmetic operations\n",
    "a = np.array([10, 20, 30, 40])\n",
    "b = np.array([1, 2, 3, 4])\n",
    "\n",
    "# Perform element-wise arithmetic operations\n",
    "print(\"a + b =\", a + b)           # Element-wise addition\n",
    "print(\"a - b =\", a - b)           # Element-wise subtraction\n",
    "print(\"a * b =\", a * b)           # Element-wise multiplication\n",
    "print(\"a / b =\", a / b)           # Element-wise division\n",
    "print(\"a ** 2 =\", a ** 2)         # Element-wise squaring\n",
    "\n",
    "# Perform statistical calculations on array 'a'\n",
    "print(\"\\nSum of a:\", np.sum(a))           # Sum of all elements\n",
    "print(\"Mean of a:\", np.mean(a))           # Mean of all elements\n",
    "print(\"Max of a:\", np.max(a))             # Maximum value\n",
    "print(\"Min of a:\", np.min(a))             # Minimum value\n",
    "print(\"Standard deviation of a:\", np.std(a))  # Standard deviation of elements"
   ]
  },
  {
   "cell_type": "markdown",
   "metadata": {},
   "source": [
    "## Array Indexing and Slicing\n",
    "Access array elements using indexing, slicing, boolean indexing, and fancy indexing."
   ]
  },
  {
   "cell_type": "code",
   "execution_count": 6,
   "metadata": {},
   "outputs": [
    {
     "name": "stdout",
     "output_type": "stream",
     "text": [
      "Original array:\n",
      "[[ 1  2  3  4]\n",
      " [ 5  6  7  8]\n",
      " [ 9 10 11 12]]\n",
      "\n",
      "Element at position [1,2]: 7\n",
      "\n",
      "First row: [1 2 3 4]\n",
      "Second column: [ 2  6 10]\n",
      "Subarray from rows 0-1 and columns 1-3:\n",
      "[[2 3]\n",
      " [6 7]]\n",
      "\n",
      "Elements greater than 5:\n",
      "[ 6  7  8  9 10 11 12]\n",
      "\n",
      "Rows 0 and 2:\n",
      "[[ 1  2  3  4]\n",
      " [ 9 10 11 12]]\n"
     ]
    }
   ],
   "source": [
    "# Array Indexing and Slicing\n",
    "\n",
    "# Create a 2D array for demonstration\n",
    "arr = np.array([[1, 2, 3, 4], [5, 6, 7, 8], [9, 10, 11, 12]])\n",
    "print(\"Original array:\")\n",
    "print(arr)\n",
    "\n",
    "# Indexing: Access a specific element\n",
    "print(\"\\nElement at position [1,2]:\", arr[1, 2])\n",
    "\n",
    "# Slicing: Extract subarrays\n",
    "print(\"\\nFirst row:\", arr[0, :])  # All columns of the first row\n",
    "print(\"Second column:\", arr[:, 1])  # All rows of the second column\n",
    "print(\"Subarray from rows 0-1 and columns 1-3:\")\n",
    "print(arr[0:2, 1:3])  # Rows 0-1 and columns 1-3\n",
    "\n",
    "# Boolean indexing: Extract elements based on a condition\n",
    "print(\"\\nElements greater than 5:\")\n",
    "print(arr[arr > 5])\n",
    "\n",
    "# Fancy indexing: Access specific rows or columns\n",
    "indices = np.array([0, 2])  # Indices of rows to select\n",
    "print(\"\\nRows 0 and 2:\")\n",
    "print(arr[indices])"
   ]
  },
  {
   "cell_type": "markdown",
   "metadata": {},
   "source": [
    "## Practical Example: Image Processing\n",
    "Create and manipulate a simple image as a 2D NumPy array and visualize it with matplotlib."
   ]
  },
  {
   "cell_type": "code",
   "execution_count": 7,
   "metadata": {},
   "outputs": [
    {
     "data": {
      "image/png": "[encoded data removed]",
      "text/plain": [
       "<Figure size 800x400 with 2 Axes>"
      ]
     },
     "metadata": {},
     "output_type": "display_data"
    }
   ],
   "source": [
    "# Practical Example: Image Processing\n",
    "\n",
    "# Import matplotlib for visualization\n",
    "import matplotlib.pyplot as plt\n",
    "\n",
    "# Create a simple image as a 2D NumPy array\n",
    "image = np.zeros((10, 10))  # Create a 10x10 black image\n",
    "# image[2:8, 2:8] = 1  # Add a white square in the center\n",
    "image[1:9, 8:9] = 1  # Add a white rectangle\n",
    "\n",
    "# Rotate the image by 90 degrees\n",
    "rotated = np.rot90(image)\n",
    "\n",
    "# Display the original and rotated images\n",
    "plt.figure(figsize=(8, 4))\n",
    "\n",
    "# Display the original image\n",
    "plt.subplot(1, 2, 1)\n",
    "plt.imshow(image, cmap='gray')\n",
    "plt.title('Original Image')\n",
    "\n",
    "# Display the rotated image\n",
    "plt.subplot(1, 2, 2)\n",
    "plt.imshow(rotated, cmap='gray')\n",
    "plt.title('Rotated Image')\n",
    "\n",
    "plt.tight_layout()\n",
    "plt.show()"
   ]
  }
 ],
 "metadata": {
  "kernelspec": {
   "display_name": "Python 3 (ipykernel)",
   "language": "python",
   "name": "python3"
  },
  "language_info": {
   "codemirror_mode": {
    "name": "ipython",
    "version": 3
   },
   "file_extension": ".py",
   "mimetype": "text/x-python",
   "name": "python",
   "nbconvert_exporter": "python",
   "pygments_lexer": "ipython3",
   "version": "3.13.2"
  }
 },
 "nbformat": 4,
 "nbformat_minor": 4
}
