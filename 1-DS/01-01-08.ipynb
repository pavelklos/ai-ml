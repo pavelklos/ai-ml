{
 "cells": [
  {
   "cell_type": "markdown",
   "id": "cff56140",
   "metadata": {},
   "source": [
    "# Data Filtering and Selection in Pandas\n",
    "\n",
    "This notebook covers various techniques to filter and subset data efficiently using pandas. We'll explore different methods from basic comparison operators to advanced filtering techniques."
   ]
  },
  {
   "cell_type": "markdown",
   "id": "831a0396",
   "metadata": {},
   "source": [
    "## Import Required Libraries"
   ]
  },
  {
   "cell_type": "code",
   "execution_count": null,
   "id": "2786d050",
   "metadata": {},
   "outputs": [],
   "source": [
    "# Import necessary libraries\n",
    "import pandas as pd\n",
    "import numpy as np\n",
    "import matplotlib.pyplot as plt\n",
    "import seaborn as sns\n",
    "\n",
    "# Set display options\n",
    "pd.set_option('display.max_columns', None)\n",
    "pd.set_option('display.max_rows', 20)\n",
    "pd.set_option('display.width', 1000)\n",
    "\n",
    "# For reproducibility\n",
    "np.random.seed(42)"
   ]
  },
  {
   "cell_type": "markdown",
   "id": "d61aee75",
   "metadata": {},
   "source": [
    "## Creating Sample Data\n",
    "\n",
    "Let's create sample DataFrames with various data types including numeric, string, categorical, and datetime data to demonstrate different filtering techniques."
   ]
  },
  {
   "cell_type": "code",
   "execution_count": null,
   "id": "c258db1f",
   "metadata": {},
   "outputs": [],
   "source": [
    "# Create a sample dataset with different data types\n",
    "dates = pd.date_range('2023-01-01', periods=100)\n",
    "categories = ['A', 'B', 'C', 'D']\n",
    "regions = ['North', 'South', 'East', 'West']\n",
    "status = ['Active', 'Pending', 'Completed', 'Cancelled']\n",
    "\n",
    "df = pd.DataFrame({\n",
    "    'date': dates,\n",
    "    'numeric_value': np.random.randint(1, 100, 100),\n",
    "    'float_value': np.random.normal(50, 15, 100),\n",
    "    'category': np.random.choice(categories, 100),\n",
    "    'region': np.random.choice(regions, 100),\n",
    "    'status': np.random.choice(status, 100),\n",
    "    'text': ['Sample text ' + str(i) for i in range(100)],\n",
    "    'is_valid': np.random.choice([True, False], 100)\n",
    "})\n",
    "\n",
    "# Add some missing values\n",
    "for col in df.columns:\n",
    "    if col != 'date':  # Keep dates intact\n",
    "        mask = np.random.choice([True, False], 100, p=[0.05, 0.95])  # 5% NaN\n",
    "        df.loc[mask, col] = np.nan\n",
    "\n",
    "# Convert category to categorical data type\n",
    "df['category'] = df['category'].astype('category')\n",
    "\n",
    "# Display the first few rows of the DataFrame\n",
    "print(\"DataFrame shape:\", df.shape)\n",
    "df.head()"
   ]
  },
  {
   "cell_type": "markdown",
   "id": "74c60e22",
   "metadata": {},
   "source": [
    "## Basic Data Filtering\n",
    "\n",
    "Pandas provides several ways to filter data. Let's start with the most basic approach using comparison operators (`>`, `<`, `==`, `!=`, `>=`, `<=`)."
   ]
  },
  {
   "cell_type": "code",
   "execution_count": null,
   "id": "c018af52",
   "metadata": {},
   "outputs": [],
   "source": [
    "# Filter rows where numeric_value > 50\n",
    "high_values = df[df['numeric_value'] > 50]\n",
    "print(f\"Rows with numeric_value > 50: {len(high_values)}\")\n",
    "high_values.head()"
   ]
  },
  {
   "cell_type": "code",
   "execution_count": null,
   "id": "08770eab",
   "metadata": {},
   "outputs": [],
   "source": [
    "# Filter rows where category equals 'A'\n",
    "category_a = df[df['category'] == 'A']\n",
    "print(f\"Rows with category 'A': {len(category_a)}\")\n",
    "category_a.head()"
   ]
  },
  {
   "cell_type": "code",
   "execution_count": null,
   "id": "a94eb0c6",
   "metadata": {},
   "outputs": [],
   "source": [
    "# Filter rows where status is not 'Completed'\n",
    "not_completed = df[df['status'] != 'Completed']\n",
    "print(f\"Rows with status not 'Completed': {len(not_completed)}\")\n",
    "not_completed.head()"
   ]
  },
  {
   "cell_type": "code",
   "execution_count": null,
   "id": "713b4f65",
   "metadata": {},
   "outputs": [],
   "source": [
    "# Filter rows by date\n",
    "recent_data = df[df['date'] >= '2023-03-01']\n",
    "print(f\"Rows with date on or after March 1, 2023: {len(recent_data)}\")\n",
    "recent_data.head()"
   ]
  },
  {
   "cell_type": "markdown",
   "id": "7b4767db",
   "metadata": {},
   "source": [
    "## Advanced Filtering Techniques\n",
    "\n",
    "We can combine multiple conditions using logical operators (`&` and `|`). Note that when using multiple conditions, each condition must be enclosed in parentheses."
   ]
  },
  {
   "cell_type": "code",
   "execution_count": null,
   "id": "23ea0b49",
   "metadata": {},
   "outputs": [],
   "source": [
    "# Filter with multiple conditions using AND (&)\n",
    "# Find rows where numeric_value > 50 AND region is 'North'\n",
    "filtered_df = df[(df['numeric_value'] > 50) & (df['region'] == 'North')]\n",
    "print(f\"Rows matching both conditions: {len(filtered_df)}\")\n",
    "filtered_df.head()"
   ]
  },
  {
   "cell_type": "code",
   "execution_count": null,
   "id": "2324b1c5",
   "metadata": {},
   "outputs": [],
   "source": [
    "# Filter with multiple conditions using OR (|)\n",
    "# Find rows where category is 'A' OR status is 'Completed'\n",
    "filtered_df = df[(df['category'] == 'A') | (df['status'] == 'Completed')]\n",
    "print(f\"Rows matching either condition: {len(filtered_df)}\")\n",
    "filtered_df.head()"
   ]
  },
  {
   "cell_type": "code",
   "execution_count": null,
   "id": "b0cd64c4",
   "metadata": {},
   "outputs": [],
   "source": [
    "# Combining AND and OR conditions\n",
    "# Find rows where (numeric_value > 50 AND region is 'North') OR category is 'A'\n",
    "complex_filter = df[((df['numeric_value'] > 50) & (df['region'] == 'North')) | (df['category'] == 'A')]\n",
    "print(f\"Rows matching complex condition: {len(complex_filter)}\")\n",
    "complex_filter.head()"
   ]
  },
  {
   "cell_type": "markdown",
   "id": "cdc1e49e",
   "metadata": {},
   "source": [
    "## Boolean Indexing\n",
    "\n",
    "Boolean indexing is a powerful technique where you create a boolean mask (Series of True/False values) and apply it to filter the DataFrame."
   ]
  },
  {
   "cell_type": "code",
   "execution_count": null,
   "id": "4ff4b48d",
   "metadata": {},
   "outputs": [],
   "source": [
    "# Create a boolean mask\n",
    "mask = df['float_value'] > 60\n",
    "print(\"First 10 values of the mask:\")\n",
    "print(mask.head(10))\n",
    "\n",
    "# Apply the mask to filter the DataFrame\n",
    "filtered_df = df[mask]\n",
    "print(f\"\\nNumber of rows with float_value > 60: {len(filtered_df)}\")\n",
    "filtered_df.head()"
   ]
  },
  {
   "cell_type": "code",
   "execution_count": null,
   "id": "ad0280cd",
   "metadata": {},
   "outputs": [],
   "source": [
    "# Creating and applying a more complex mask\n",
    "mask = (df['numeric_value'] > 50) & (df['float_value'] < 70) & (df['is_valid'] == True)\n",
    "filtered_df = df[mask]\n",
    "print(f\"Rows matching the complex mask: {len(filtered_df)}\")\n",
    "filtered_df.head()"
   ]
  },
  {
   "cell_type": "code",
   "execution_count": null,
   "id": "9ba57d00",
   "metadata": {},
   "outputs": [],
   "source": [
    "# Visualizing the distribution of data before and after filtering\n",
    "plt.figure(figsize=(12, 6))\n",
    "\n",
    "plt.subplot(1, 2, 1)\n",
    "sns.histplot(df['float_value'], kde=True)\n",
    "plt.title('Original Distribution')\n",
    "plt.axvline(x=60, color='red', linestyle='--')\n",
    "\n",
    "plt.subplot(1, 2, 2)\n",
    "sns.histplot(filtered_df['float_value'], kde=True)\n",
    "plt.title('Filtered Distribution')\n",
    "\n",
    "plt.tight_layout()\n",
    "plt.show()"
   ]
  },
  {
   "cell_type": "markdown",
   "id": "7e8890b0",
   "metadata": {},
   "source": [
    "## Using Query Method\n",
    "\n",
    "The `query()` method provides a more readable way to filter data, especially for complex conditions. It accepts string expressions and is often more concise than boolean indexing."
   ]
  },
  {
   "cell_type": "code",
   "execution_count": null,
   "id": "536c4286",
   "metadata": {},
   "outputs": [],
   "source": [
    "# Basic query\n",
    "filtered_df = df.query('numeric_value > 50')\n",
    "print(f\"Rows with numeric_value > 50: {len(filtered_df)}\")\n",
    "filtered_df.head()"
   ]
  },
  {
   "cell_type": "code",
   "execution_count": null,
   "id": "e4a89393",
   "metadata": {},
   "outputs": [],
   "source": [
    "# More complex query with multiple conditions\n",
    "filtered_df = df.query('numeric_value > 50 and region == \"North\"')\n",
    "print(f\"Rows matching the complex query: {len(filtered_df)}\")\n",
    "filtered_df.head()"
   ]
  },
  {
   "cell_type": "code",
   "execution_count": null,
   "id": "0a66c57c",
   "metadata": {},
   "outputs": [],
   "source": [
    "# Using OR conditions in query\n",
    "filtered_df = df.query('category == \"A\" or status == \"Completed\"')\n",
    "print(f\"Rows matching either condition: {len(filtered_df)}\")\n",
    "filtered_df.head()"
   ]
  },
  {
   "cell_type": "code",
   "execution_count": null,
   "id": "ed594904",
   "metadata": {},
   "outputs": [],
   "source": [
    "# Using variables in query with @ symbol\n",
    "min_value = 70\n",
    "max_value = 90\n",
    "filtered_df = df.query('numeric_value >= @min_value and numeric_value <= @max_value')\n",
    "print(f\"Rows with numeric_value between {min_value} and {max_value}: {len(filtered_df)}\")\n",
    "filtered_df.head()"
   ]
  },
  {
   "cell_type": "markdown",
   "id": "9b0f3262",
   "metadata": {},
   "source": [
    "## Filtering with isin()\n",
    "\n",
    "The `isin()` method lets you filter rows where values are in a specified list or set of values."
   ]
  },
  {
   "cell_type": "code",
   "execution_count": null,
   "id": "90cec68e",
   "metadata": {},
   "outputs": [],
   "source": [
    "# Filter rows where category is either 'A' or 'B'\n",
    "categories_of_interest = ['A', 'B']\n",
    "filtered_df = df[df['category'].isin(categories_of_interest)]\n",
    "print(f\"Rows with category in {categories_of_interest}: {len(filtered_df)}\")\n",
    "filtered_df.head()"
   ]
  },
  {
   "cell_type": "code",
   "execution_count": null,
   "id": "d3ccd201",
   "metadata": {},
   "outputs": [],
   "source": [
    "# Filter rows where region is NOT 'North' or 'South'\n",
    "regions_to_exclude = ['North', 'South']\n",
    "filtered_df = df[~df['region'].isin(regions_to_exclude)]  # Note the ~ operator for negation\n",
    "print(f\"Rows with region NOT in {regions_to_exclude}: {len(filtered_df)}\")\n",
    "filtered_df.head()"
   ]
  },
  {
   "cell_type": "code",
   "execution_count": null,
   "id": "09e757e5",
   "metadata": {},
   "outputs": [],
   "source": [
    "# Combine isin() with other conditions\n",
    "filtered_df = df[(df['category'].isin(['A', 'B'])) & (df['numeric_value'] > 50)]\n",
    "print(f\"Rows matching combined conditions: {len(filtered_df)}\")\n",
    "filtered_df.head()"
   ]
  },
  {
   "cell_type": "markdown",
   "id": "6a147919",
   "metadata": {},
   "source": [
    "## String Filtering with str Accessor\n",
    "\n",
    "The `.str` accessor provides string manipulation methods for filtering text data."
   ]
  },
  {
   "cell_type": "code",
   "execution_count": null,
   "id": "e8d7ad5c",
   "metadata": {},
   "outputs": [],
   "source": [
    "# Filter rows where text contains the word 'text'\n",
    "filtered_df = df[df['text'].str.contains('text')]\n",
    "print(f\"Rows where text contains 'text': {len(filtered_df)}\")\n",
    "filtered_df.head()"
   ]
  },
  {
   "cell_type": "code",
   "execution_count": null,
   "id": "532a6983",
   "metadata": {},
   "outputs": [],
   "source": [
    "# Filter rows where text starts with 'Sample'\n",
    "filtered_df = df[df['text'].str.startswith('Sample')]\n",
    "print(f\"Rows where text starts with 'Sample': {len(filtered_df)}\")\n",
    "filtered_df.head()"
   ]
  },
  {
   "cell_type": "code",
   "execution_count": null,
   "id": "3371fdc5",
   "metadata": {},
   "outputs": [],
   "source": [
    "# Filter rows where text ends with specific numbers\n",
    "filtered_df = df[df['text'].str.endswith(('1', '2', '3'))]\n",
    "print(f\"Rows where text ends with '1', '2', or '3': {len(filtered_df)}\")\n",
    "filtered_df.head()"
   ]
  },
  {
   "cell_type": "code",
   "execution_count": null,
   "id": "06279840",
   "metadata": {},
   "outputs": [],
   "source": [
    "# Using regex with str.contains()\n",
    "import re\n",
    "# Filter rows where text contains a number between 10 and 20\n",
    "filtered_df = df[df['text'].str.contains(r'Sample text 1[0-9]')]\n",
    "print(f\"Rows where text contains numbers 10-19: {len(filtered_df)}\")\n",
    "filtered_df"
   ]
  },
  {
   "cell_type": "markdown",
   "id": "8f0d720b",
   "metadata": {},
   "source": [
    "## Filtering with loc and iloc\n",
    "\n",
    "`loc` is used for label-based indexing, while `iloc` is used for integer-position-based indexing."
   ]
  },
  {
   "cell_type": "code",
   "execution_count": null,
   "id": "7ee6aeab",
   "metadata": {},
   "outputs": [],
   "source": [
    "# Select rows by index and columns by label using loc\n",
    "# Get rows with indices 5 to 10 and columns 'date', 'numeric_value', 'category'\n",
    "subset = df.loc[5:10, ['date', 'numeric_value', 'category']]\n",
    "subset"
   ]
  },
  {
   "cell_type": "code",
   "execution_count": null,
   "id": "9a13a4f3",
   "metadata": {},
   "outputs": [],
   "source": [
    "# Combine loc with boolean indexing\n",
    "# Select specific columns for rows where numeric_value > 50\n",
    "subset = df.loc[df['numeric_value'] > 50, ['date', 'numeric_value', 'category', 'region']]\n",
    "print(f\"Shape of subset: {subset.shape}\")\n",
    "subset.head()"
   ]
  },
  {
   "cell_type": "code",
   "execution_count": null,
   "id": "8953c453",
   "metadata": {},
   "outputs": [],
   "source": [
    "# Using iloc for position-based selection\n",
    "# Get first 5 rows and first 3 columns\n",
    "subset = df.iloc[0:5, 0:3]\n",
    "subset"
   ]
  },
  {
   "cell_type": "code",
   "execution_count": null,
   "id": "fc9bb0c1",
   "metadata": {},
   "outputs": [],
   "source": [
    "# Combining iloc with specific positions\n",
    "# Get rows at positions 10, 20, 30 and columns at positions 1, 3, 5\n",
    "subset = df.iloc[[10, 20, 30], [1, 3, 5]]\n",
    "subset"
   ]
  },
  {
   "cell_type": "markdown",
   "id": "1e1be802",
   "metadata": {},
   "source": [
    "## Combining Multiple Filters\n",
    "\n",
    "Let's explore different ways to chain and combine multiple filtering operations."
   ]
  },
  {
   "cell_type": "code",
   "execution_count": null,
   "id": "4da4403a",
   "metadata": {},
   "outputs": [],
   "source": [
    "# Method 1: Chaining filters\n",
    "filtered_df = df[df['numeric_value'] > 50][df['category'] == 'A']\n",
    "print(f\"Rows after chaining filters: {len(filtered_df)}\")\n",
    "filtered_df.head()"
   ]
  },
  {
   "cell_type": "code",
   "execution_count": null,
   "id": "d845da54",
   "metadata": {},
   "outputs": [],
   "source": [
    "# Method 2: Using & operator (generally preferred for clarity and performance)\n",
    "filtered_df = df[(df['numeric_value'] > 50) & (df['category'] == 'A')]\n",
    "print(f\"Rows using & operator: {len(filtered_df)}\")\n",
    "filtered_df.head()"
   ]
  },
  {
   "cell_type": "code",
   "execution_count": null,
   "id": "0e629a39",
   "metadata": {},
   "outputs": [],
   "source": [
    "# Method 3: Using query method\n",
    "filtered_df = df.query('numeric_value > 50 and category == \"A\"')\n",
    "print(f\"Rows using query method: {len(filtered_df)}\")\n",
    "filtered_df.head()"
   ]
  },
  {
   "cell_type": "code",
   "execution_count": null,
   "id": "fed96620",
   "metadata": {},
   "outputs": [],
   "source": [
    "# Complex filtering example\n",
    "# Find rows where:\n",
    "# - numeric_value is between 40 and 80\n",
    "# - category is either A or B\n",
    "# - region is not West\n",
    "# - date is after February 15, 2023\n",
    "\n",
    "complex_filter = df[\n",
    "    (df['numeric_value'] > 40) & \n",
    "    (df['numeric_value'] < 80) & \n",
    "    (df['category'].isin(['A', 'B'])) & \n",
    "    (df['region'] != 'West') & \n",
    "    (df['date'] > '2023-02-15')\n",
    "]\n",
    "\n",
    "print(f\"Rows matching complex filter: {len(complex_filter)}\")\n",
    "complex_filter.head()"
   ]
  },
  {
   "cell_type": "code",
   "execution_count": null,
   "id": "a438bf95",
   "metadata": {},
   "outputs": [],
   "source": [
    "# Same filter using query method\n",
    "complex_query = df.query(\n",
    "    'numeric_value > 40 and '\n",
    "    'numeric_value < 80 and '\n",
    "    'category in [\"A\", \"B\"] and '\n",
    "    'region != \"West\" and '\n",
    "    'date > \"2023-02-15\"'\n",
    ")\n",
    "\n",
    "print(f\"Rows matching complex query: {len(complex_query)}\")\n",
    "complex_query.head()\n",
    "\n",
    "# Verify that both methods give the same result\n",
    "print(f\"Results are identical: {complex_filter.equals(complex_query)}\")"
   ]
  },
  {
   "cell_type": "markdown",
   "id": "7bdf4378",
   "metadata": {},
   "source": [
    "## Date and Time Filtering\n",
    "\n",
    "Let's explore techniques for filtering data based on date and time fields."
   ]
  },
  {
   "cell_type": "code",
   "execution_count": null,
   "id": "14e1f662",
   "metadata": {},
   "outputs": [],
   "source": [
    "# Basic date filtering\n",
    "start_date = '2023-02-01'\n",
    "end_date = '2023-03-31'\n",
    "\n",
    "date_filtered = df[(df['date'] >= start_date) & (df['date'] <= end_date)]\n",
    "print(f\"Rows between {start_date} and {end_date}: {len(date_filtered)}\")\n",
    "date_filtered.head()"
   ]
  },
  {
   "cell_type": "code",
   "execution_count": null,
   "id": "d5d166bb",
   "metadata": {},
   "outputs": [],
   "source": [
    "# Using datetime properties to filter\n",
    "# Filter for days that are weekends (Saturday or Sunday)\n",
    "weekend_data = df[df['date'].dt.dayofweek.isin([5, 6])]  # 5=Saturday, 6=Sunday\n",
    "print(f\"Rows falling on weekends: {len(weekend_data)}\")\n",
    "weekend_data.head()"
   ]
  },
  {
   "cell_type": "code",
   "execution_count": null,
   "id": "9fe9745d",
   "metadata": {},
   "outputs": [],
   "source": [
    "# Filter by month\n",
    "march_data = df[df['date'].dt.month == 3]  # March\n",
    "print(f\"Rows from March: {len(march_data)}\")\n",
    "march_data.head()"
   ]
  },
  {
   "cell_type": "code",
   "execution_count": null,
   "id": "ce522231",
   "metadata": {},
   "outputs": [],
   "source": [
    "# Complex date filtering\n",
    "# Get data for Mondays in February with numeric_value > 50\n",
    "monday_feb_data = df[\n",
    "    (df['date'].dt.month == 2) &  # February\n",
    "    (df['date'].dt.dayofweek == 0) &  # Monday\n",
    "    (df['numeric_value'] > 50)\n",
    "]\n",
    "print(f\"Mondays in February with numeric_value > 50: {len(monday_feb_data)}\")\n",
    "monday_feb_data"
   ]
  },
  {
   "cell_type": "markdown",
   "id": "7135add3",
   "metadata": {},
   "source": [
    "## Numeric Data Filtering\n",
    "\n",
    "Let's look at specific techniques for filtering numeric data."
   ]
  },
  {
   "cell_type": "code",
   "execution_count": null,
   "id": "bbd4706f",
   "metadata": {},
   "outputs": [],
   "source": [
    "# Using between() method for range filtering\n",
    "range_filtered = df[df['numeric_value'].between(40, 60)]\n",
    "print(f\"Rows with numeric_value between 40 and 60: {len(range_filtered)}\")\n",
    "range_filtered.head()"
   ]
  },
  {
   "cell_type": "code",
   "execution_count": null,
   "id": "99602001",
   "metadata": {},
   "outputs": [],
   "source": [
    "# Filtering based on quantiles\n",
    "q1 = df['float_value'].quantile(0.25)\n",
    "q3 = df['float_value'].quantile(0.75)\n",
    "iqr = q3 - q1\n",
    "\n",
    "middle_range = df[(df['float_value'] >= q1) & (df['float_value'] <= q3)]\n",
    "print(f\"Q1: {q1:.2f}, Q3: {q3:.2f}, IQR: {iqr:.2f}\")\n",
    "print(f\"Rows with float_value in middle 50% (between Q1 and Q3): {len(middle_range)}\")\n",
    "middle_range.head()"
   ]
  },
  {
   "cell_type": "code",
   "execution_count": null,
   "id": "41870e4d",
   "metadata": {},
   "outputs": [],
   "source": [
    "# Identifying outliers using IQR\n",
    "lower_bound = q1 - 1.5 * iqr\n",
    "upper_bound = q3 + 1.5 * iqr\n",
    "\n",
    "outliers = df[(df['float_value'] < lower_bound) | (df['float_value'] > upper_bound)]\n",
    "print(f\"Lower bound: {lower_bound:.2f}, Upper bound: {upper_bound:.2f}\")\n",
    "print(f\"Number of outliers: {len(outliers)}\")\n",
    "outliers.head()"
   ]
  },
  {
   "cell_type": "code",
   "execution_count": null,
   "id": "7d6b1877",
   "metadata": {},
   "outputs": [],
   "source": [
    "# Visualizing the distribution with outliers\n",
    "plt.figure(figsize=(10, 6))\n",
    "sns.boxplot(x=df['float_value'])\n",
    "plt.axvline(x=lower_bound, color='red', linestyle='--', label=f'Lower bound ({lower_bound:.2f})')\n",
    "plt.axvline(x=upper_bound, color='red', linestyle='--', label=f'Upper bound ({upper_bound:.2f})')\n",
    "plt.legend()\n",
    "plt.title('Distribution of float_value with Outlier Boundaries')\n",
    "plt.show()"
   ]
  },
  {
   "cell_type": "markdown",
   "id": "f7d5392e",
   "metadata": {},
   "source": [
    "## Handling NaN Values in Filters\n",
    "\n",
    "Missing values (NaN) require special handling in filtering operations."
   ]
  },
  {
   "cell_type": "code",
   "execution_count": null,
   "id": "8e2d5271",
   "metadata": {},
   "outputs": [],
   "source": [
    "# Count missing values in each column\n",
    "missing_values = df.isna().sum()\n",
    "print(\"Missing values by column:\")\n",
    "missing_values"
   ]
  },
  {
   "cell_type": "code",
   "execution_count": null,
   "id": "006a8fdf",
   "metadata": {},
   "outputs": [],
   "source": [
    "# Filter rows with missing numeric_value\n",
    "missing_numeric = df[df['numeric_value'].isna()]\n",
    "print(f\"Rows with missing numeric_value: {len(missing_numeric)}\")\n",
    "missing_numeric.head()"
   ]
  },
  {
   "cell_type": "code",
   "execution_count": null,
   "id": "d57d20f6",
   "metadata": {},
   "outputs": [],
   "source": [
    "# Filter rows with no missing values in any column\n",
    "complete_rows = df.dropna()\n",
    "print(f\"Rows with no missing values: {len(complete_rows)}\")\n",
    "print(f\"Original DataFrame shape: {df.shape}\")\n",
    "complete_rows.head()"
   ]
  },
  {
   "cell_type": "code",
   "execution_count": null,
   "id": "50d807b9",
   "metadata": {},
   "outputs": [],
   "source": [
    "# Filter rows that have at least 6 non-null values\n",
    "mostly_complete_rows = df.dropna(thresh=6)\n",
    "print(f\"Rows with at least 6 non-null values: {len(mostly_complete_rows)}\")\n",
    "mostly_complete_rows.head()"
   ]
  },
  {
   "cell_type": "code",
   "execution_count": null,
   "id": "b022812f",
   "metadata": {},
   "outputs": [],
   "source": [
    "# Filling NaN values before filtering\n",
    "# Fill NaN in numeric_value with the median\n",
    "median_value = df['numeric_value'].median()\n",
    "filled_df = df.copy()\n",
    "filled_df['numeric_value'] = filled_df['numeric_value'].fillna(median_value)\n",
    "\n",
    "# Now filter with no NaN issues\n",
    "filtered_with_filled = filled_df[filled_df['numeric_value'] > 50]\n",
    "print(f\"Rows after filling NaNs and filtering: {len(filtered_with_filled)}\")\n",
    "filtered_with_filled.head()"
   ]
  },
  {
   "cell_type": "markdown",
   "id": "025cd6db",
   "metadata": {},
   "source": [
    "## Performance Considerations\n",
    "\n",
    "Different filtering methods can have varying performance implications, especially with large datasets."
   ]
  },
  {
   "cell_type": "code",
   "execution_count": null,
   "id": "98857dce",
   "metadata": {},
   "outputs": [],
   "source": [
    "# Create a larger DataFrame for performance testing\n",
    "large_df = pd.DataFrame({\n",
    "    'A': np.random.randint(1, 100, 1000000),\n",
    "    'B': np.random.choice(['X', 'Y', 'Z'], 1000000),\n",
    "    'C': np.random.normal(0, 1, 1000000)\n",
    "})\n",
    "\n",
    "large_df.head()"
   ]
  },
  {
   "cell_type": "code",
   "execution_count": null,
   "id": "64c4551b",
   "metadata": {},
   "outputs": [],
   "source": [
    "# Compare performance of different filtering methods\n",
    "import time\n",
    "\n",
    "# Method 1: Boolean indexing\n",
    "start_time = time.time()\n",
    "filtered_1 = large_df[large_df['A'] > 50]\n",
    "time_1 = time.time() - start_time\n",
    "\n",
    "# Method 2: Query method\n",
    "start_time = time.time()\n",
    "filtered_2 = large_df.query('A > 50')\n",
    "time_2 = time.time() - start_time\n",
    "\n",
    "# Method 3: NumPy where + loc\n",
    "start_time = time.time()\n",
    "mask = np.where(large_df['A'] > 50)[0]\n",
    "filtered_3 = large_df.iloc[mask]\n",
    "time_3 = time.time() - start_time\n",
    "\n",
    "print(f\"Boolean indexing time: {time_1:.5f} seconds\")\n",
    "print(f\"Query method time: {time_2:.5f} seconds\")\n",
    "print(f\"NumPy where + iloc time: {time_3:.5f} seconds\")"
   ]
  },
  {
   "cell_type": "code",
   "execution_count": null,
   "id": "b7f1e8f8",
   "metadata": {},
   "outputs": [],
   "source": [
    "# Compare performance for complex filters\n",
    "start_time = time.time()\n",
    "filtered_1 = large_df[(large_df['A'] > 50) & (large_df['B'] == 'X') & (large_df['C'] > 0)]\n",
    "time_1 = time.time() - start_time\n",
    "\n",
    "start_time = time.time()\n",
    "filtered_2 = large_df.query('A > 50 and B == \"X\" and C > 0')\n",
    "time_2 = time.time() - start_time\n",
    "\n",
    "print(f\"Complex boolean indexing time: {time_1:.5f} seconds\")\n",
    "print(f\"Complex query method time: {time_2:.5f} seconds\")\n",
    "print(f\"Number of rows in result: {len(filtered_1)}\")"
   ]
  },
  {
   "cell_type": "markdown",
   "id": "1877bdf9",
   "metadata": {},
   "source": [
    "## Summary and Best Practices\n",
    "\n",
    "Here's a summary of the filtering techniques we've covered and some best practices:\n",
    "\n",
    "1. **Basic Filtering**:\n",
    "   - Use comparison operators (`>`, `<`, `==`, etc.) for simple conditions\n",
    "   - Enclose multiple conditions in parentheses when using `&` and `|`\n",
    "\n",
    "2. **Boolean Indexing**:\n",
    "   - Create boolean masks with conditions and apply them to filter DataFrames\n",
    "   - Great for complex conditions and reusable filters\n",
    "\n",
    "3. **Query Method**:\n",
    "   - More readable for complex conditions \n",
    "   - Can be more efficient for larger datasets\n",
    "   - Use `@` to reference external variables\n",
    "\n",
    "4. **isin() Method**:\n",
    "   - Efficient for checking membership in lists of values\n",
    "   - Use `~` to negate the condition\n",
    "\n",
    "5. **String Filtering**:\n",
    "   - Use the `.str` accessor with methods like `contains()`, `startswith()`, etc.\n",
    "   - Support for regex patterns with `contains()`\n",
    "\n",
    "6. **Loc and Iloc**:\n",
    "   - `loc` for label-based indexing\n",
    "   - `iloc` for integer position-based indexing\n",
    "   - Combine with boolean masks for powerful subsetting\n",
    "\n",
    "7. **Date Filtering**:\n",
    "   - Use date properties with `.dt` accessor\n",
    "   - Compare with date strings or datetime objects\n",
    "\n",
    "8. **Handling NaN Values**:\n",
    "   - Use `isna()` and `notna()` to identify missing values\n",
    "   - Consider filling NaN values before filtering\n",
    "   - Use `dropna()` with appropriate parameters\n",
    "\n",
    "9. **Performance Tips**:\n",
    "   - The `query()` method can be faster for large datasets\n",
    "   - Avoid chaining multiple filters when possible\n",
    "   - Consider using NumPy filtering for very large datasets"
   ]
  }
 ],
 "metadata": {
  "kernelspec": {
   "display_name": "Python 3 (ipykernel)",
   "language": "python",
   "name": "python3"
  },
  "language_info": {
   "codemirror_mode": {
    "name": "ipython",
    "version": 3
   },
   "file_extension": ".py",
   "mimetype": "text/x-python",
   "name": "python",
   "nbconvert_exporter": "python",
   "pygments_lexer": "ipython3",
   "version": "3.13.2"
  }
 },
 "nbformat": 4,
 "nbformat_minor": 5
}
