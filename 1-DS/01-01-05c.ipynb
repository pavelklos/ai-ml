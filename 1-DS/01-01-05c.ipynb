{
 "cells": [
  {
   "cell_type": "markdown",
   "id": "cdeec9ab",
   "metadata": {},
   "source": [
    "# Loading Data from Various Sources\n",
    "\n",
    "This notebook demonstrates different methods for loading data from various file formats including CSV, Excel, JSON, and remote data sources. We'll cover different options and parameters for each method, as well as how to handle various challenges like different encodings and large files."
   ]
  },
  {
   "cell_type": "markdown",
   "id": "af249e0b",
   "metadata": {},
   "source": [
    "## 1. Import Required Libraries\n",
    "\n",
    "We'll start by importing the necessary libraries for loading and manipulating data from various sources."
   ]
  },
  {
   "cell_type": "code",
   "execution_count": 1,
   "id": "c28054a3",
   "metadata": {},
   "outputs": [
    {
     "name": "stdout",
     "output_type": "stream",
     "text": [
      "Libraries imported successfully!\n"
     ]
    }
   ],
   "source": [
    "# Import basic data manipulation libraries\n",
    "import pandas as pd\n",
    "import numpy as np\n",
    "\n",
    "# Libraries for handling file formats and remote data\n",
    "import json\n",
    "import requests\n",
    "import io\n",
    "import os\n",
    "from pathlib import Path\n",
    "\n",
    "# For handling Excel files\n",
    "import openpyxl\n",
    "import xlrd\n",
    "\n",
    "# For timing operations\n",
    "import time\n",
    "\n",
    "print(\"Libraries imported successfully!\")"
   ]
  },
  {
   "cell_type": "markdown",
   "id": "99cab609",
   "metadata": {},
   "source": [
    "## 2. Loading Data from CSV Files\n",
    "\n",
    "CSV (Comma-Separated Values) is one of the most common formats for storing tabular data. Pandas provides the powerful `read_csv()` function with many options to handle various CSV formats."
   ]
  },
  {
   "cell_type": "code",
   "execution_count": 2,
   "id": "b3d3f285",
   "metadata": {},
   "outputs": [
    {
     "name": "stdout",
     "output_type": "stream",
     "text": [
      "Basic CSV loading:\n",
      "Shape: (150, 5)\n",
      "   sepal_length  sepal_width  petal_length  petal_width species\n",
      "0           5.1          3.5           1.4          0.2  setosa\n",
      "1           4.9          3.0           1.4          0.2  setosa\n",
      "2           4.7          3.2           1.3          0.2  setosa\n",
      "3           4.6          3.1           1.5          0.2  setosa\n",
      "4           5.0          3.6           1.4          0.2  setosa\n"
     ]
    }
   ],
   "source": [
    "# Basic CSV loading\n",
    "# Let's download the Iris dataset as an example\n",
    "url = \"https://raw.githubusercontent.com/mwaskom/seaborn-data/master/iris.csv\"\n",
    "iris_df = pd.read_csv(url)\n",
    "\n",
    "# Display the first few rows\n",
    "print(\"Basic CSV loading:\")\n",
    "print(f\"Shape: {iris_df.shape}\")\n",
    "print(iris_df.head())"
   ]
  },
  {
   "cell_type": "code",
   "execution_count": 3,
   "id": "f89013a6",
   "metadata": {},
   "outputs": [
    {
     "name": "stdout",
     "output_type": "stream",
     "text": [
      "CSV with semicolon delimiter:\n",
      "   sepal_length  sepal_width  petal_length  petal_width species\n",
      "0           5.1          3.5           1.4          0.2  setosa\n",
      "1           4.9          3.0           1.4          0.2  setosa\n",
      "2           4.7          3.2           1.3          0.2  setosa\n"
     ]
    }
   ],
   "source": [
    "# CSV with different delimiters\n",
    "# Create a sample semicolon-separated string\n",
    "csv_data = \"\"\"sepal_length;sepal_width;petal_length;petal_width;species\n",
    "5.1;3.5;1.4;0.2;setosa\n",
    "4.9;3.0;1.4;0.2;setosa\n",
    "4.7;3.2;1.3;0.2;setosa\"\"\"\n",
    "\n",
    "# Write to a temporary file\n",
    "with open(\"temp_semicolon.csv\", \"w\") as f:\n",
    "    f.write(csv_data)\n",
    "\n",
    "# Read with custom delimiter\n",
    "semi_df = pd.read_csv(\"temp_semicolon.csv\", delimiter=\";\")\n",
    "print(\"CSV with semicolon delimiter:\")\n",
    "print(semi_df.head())"
   ]
  },
  {
   "cell_type": "code",
   "execution_count": 4,
   "id": "e984503e",
   "metadata": {},
   "outputs": [
    {
     "name": "stdout",
     "output_type": "stream",
     "text": [
      "CSV with comments and missing values:\n",
      "   col1  col2  col3\n",
      "0     1   2.0   3.0\n",
      "1     4   NaN   6.0\n",
      "2     7   8.0   NaN\n",
      "\n",
      "Data types:\n",
      "col1      int64\n",
      "col2    float64\n",
      "col3    float64\n",
      "dtype: object\n"
     ]
    }
   ],
   "source": [
    "# CSV with additional options\n",
    "# Create a sample CSV with header issues and missing values\n",
    "csv_data = \"\"\"# This is a comment\n",
    "# This is another comment\n",
    "col1,col2,col3\n",
    "1,2,3\n",
    "4,,6\n",
    "7,8,\"\"\"\n",
    "\n",
    "# Write to a temporary file\n",
    "with open(\"temp_complex.csv\", \"w\") as f:\n",
    "    f.write(csv_data)\n",
    "\n",
    "# Read with various options\n",
    "complex_df = pd.read_csv(\"temp_complex.csv\", \n",
    "                         comment=\"#\",       # Skip lines starting with #\n",
    "                         skiprows=0,        # Don't skip any non-comment rows\n",
    "                         na_values=[\"\"],    # Treat empty strings as NaN\n",
    "                         )\n",
    "\n",
    "print(\"CSV with comments and missing values:\")\n",
    "print(complex_df)\n",
    "print(\"\\nData types:\")\n",
    "print(complex_df.dtypes)\n",
    "\n",
    "# Clean up temporary files\n",
    "# os.remove(\"temp_semicolon.csv\")\n",
    "# os.remove(\"temp_complex.csv\")"
   ]
  },
  {
   "cell_type": "code",
   "execution_count": 5,
   "id": "cea1870e",
   "metadata": {},
   "outputs": [
    {
     "name": "stdout",
     "output_type": "stream",
     "text": [
      "Large CSV loaded and processed in chunks in 0.33 seconds\n",
      "Shape: (3362, 14)\n",
      "    FIPS Admin2 Province_State Country_Region          Last_Update      Lat  \\\n",
      "42   NaN    NaN           Acre         Brazil  2023-03-02 04:21:02  -9.0238   \n",
      "43   NaN    NaN        Alagoas         Brazil  2023-03-02 04:21:02  -9.5713   \n",
      "44   NaN    NaN          Amapa         Brazil  2023-03-02 04:21:02   0.9020   \n",
      "45   NaN    NaN       Amazonas         Brazil  2023-03-02 04:21:02  -3.4168   \n",
      "46   NaN    NaN          Bahia         Brazil  2023-03-02 04:21:02 -12.5797   \n",
      "\n",
      "      Long_  Confirmed  Deaths  Recovered  Active      Combined_Key  \\\n",
      "42 -70.8120     160387    2043        NaN     NaN      Acre, Brazil   \n",
      "43 -36.7820     337478    7242        NaN     NaN   Alagoas, Brazil   \n",
      "44 -52.0030     185589    2167        NaN     NaN     Amapa, Brazil   \n",
      "45 -65.8561     631312   14439        NaN     NaN  Amazonas, Brazil   \n",
      "46 -41.7007    1792003   31456        NaN     NaN     Bahia, Brazil   \n",
      "\n",
      "    Incident_Rate  Case_Fatality_Ratio  \n",
      "42   18185.807344             1.273794  \n",
      "43   10112.133643             2.145918  \n",
      "44   21944.211576             1.167634  \n",
      "45   15232.168532             2.287142  \n",
      "46   12048.647138             1.755354  \n"
     ]
    }
   ],
   "source": [
    "# Reading large CSV files in chunks\n",
    "# Download a larger dataset (COVID-19 data)\n",
    "\n",
    "# # [ERROR] HTTPError: HTTP Error 404: Not Found\n",
    "# url = \"https://raw.githubusercontent.com/CSSEGISandData/COVID-19/master/csse_covid_19_data/csse_covid_19_daily_reports/05-01-2023.csv\"\n",
    "url = \"https://raw.githubusercontent.com/CSSEGISandData/COVID-19/master/csse_covid_19_data/csse_covid_19_daily_reports/03-01-2023.csv\"\n",
    "\n",
    "# Read in chunks of 1000 rows\n",
    "chunk_size = 1000\n",
    "chunks = []\n",
    "\n",
    "start_time = time.time()\n",
    "for chunk in pd.read_csv(url, chunksize=chunk_size):\n",
    "    # Process each chunk (for example, filter only certain countries)\n",
    "    filtered_chunk = chunk[chunk['Country_Region'].isin(['US', 'India', 'Brazil', 'United Kingdom'])]\n",
    "    chunks.append(filtered_chunk)\n",
    "\n",
    "# Combine all chunks into a single DataFrame\n",
    "covid_df = pd.concat(chunks)\n",
    "end_time = time.time()\n",
    "\n",
    "print(f\"Large CSV loaded and processed in chunks in {end_time - start_time:.2f} seconds\")\n",
    "print(f\"Shape: {covid_df.shape}\")\n",
    "print(covid_df.head())"
   ]
  },
  {
   "cell_type": "code",
   "execution_count": 6,
   "id": "15dd6177-ab0a-43dd-a8ae-d5efe232149c",
   "metadata": {},
   "outputs": [
    {
     "name": "stdout",
     "output_type": "stream",
     "text": [
      "Large CSV loaded and processed in chunks in 31.62 seconds\n",
      "Shape: (6704, 67)\n",
      "      iso_code      continent location        date  total_cases  new_cases  \\\n",
      "50234      BRA  South America   Brazil  2020-01-05          0.0        0.0   \n",
      "50235      BRA  South America   Brazil  2020-01-06          0.0        0.0   \n",
      "50236      BRA  South America   Brazil  2020-01-07          0.0        0.0   \n",
      "50237      BRA  South America   Brazil  2020-01-08          0.0        0.0   \n",
      "50238      BRA  South America   Brazil  2020-01-09          0.0        0.0   \n",
      "\n",
      "       new_cases_smoothed  total_deaths  new_deaths  new_deaths_smoothed  ...  \\\n",
      "50234                 NaN           0.0         0.0                  NaN  ...   \n",
      "50235                 NaN           0.0         0.0                  NaN  ...   \n",
      "50236                 NaN           0.0         0.0                  NaN  ...   \n",
      "50237                 NaN           0.0         0.0                  NaN  ...   \n",
      "50238                 NaN           0.0         0.0                  NaN  ...   \n",
      "\n",
      "       male_smokers  handwashing_facilities  hospital_beds_per_thousand  \\\n",
      "50234          17.9                     NaN                         2.2   \n",
      "50235          17.9                     NaN                         2.2   \n",
      "50236          17.9                     NaN                         2.2   \n",
      "50237          17.9                     NaN                         2.2   \n",
      "50238          17.9                     NaN                         2.2   \n",
      "\n",
      "       life_expectancy  human_development_index  population  \\\n",
      "50234            75.88                    0.765   215313504   \n",
      "50235            75.88                    0.765   215313504   \n",
      "50236            75.88                    0.765   215313504   \n",
      "50237            75.88                    0.765   215313504   \n",
      "50238            75.88                    0.765   215313504   \n",
      "\n",
      "       excess_mortality_cumulative_absolute  excess_mortality_cumulative  \\\n",
      "50234                                   NaN                          NaN   \n",
      "50235                                   NaN                          NaN   \n",
      "50236                                   NaN                          NaN   \n",
      "50237                                   NaN                          NaN   \n",
      "50238                                   NaN                          NaN   \n",
      "\n",
      "       excess_mortality  excess_mortality_cumulative_per_million  \n",
      "50234               NaN                                      NaN  \n",
      "50235               NaN                                      NaN  \n",
      "50236               NaN                                      NaN  \n",
      "50237               NaN                                      NaN  \n",
      "50238               NaN                                      NaN  \n",
      "\n",
      "[5 rows x 67 columns]\n"
     ]
    }
   ],
   "source": [
    "url = \"https://covid.ourworldindata.org/data/owid-covid-data.csv\"\n",
    "\n",
    "chunk_size = 100000\n",
    "chunks = []\n",
    "\n",
    "start_time = time.time()\n",
    "for chunk in pd.read_csv(url, chunksize=chunk_size):\n",
    "    # Filter chunk for selected countries\n",
    "    filtered_chunk = chunk[chunk['location'].isin(['United States', 'India', 'Brazil', 'United Kingdom'])]\n",
    "    chunks.append(filtered_chunk)\n",
    "\n",
    "# Combine all filtered chunks\n",
    "covid_df = pd.concat(chunks)\n",
    "end_time = time.time()\n",
    "\n",
    "print(f\"Large CSV loaded and processed in chunks in {end_time - start_time:.2f} seconds\")\n",
    "print(f\"Shape: {covid_df.shape}\")\n",
    "print(covid_df.head())"
   ]
  },
  {
   "cell_type": "code",
   "execution_count": 7,
   "id": "ac375367-7825-40c4-9bc2-cd80a7316e5c",
   "metadata": {},
   "outputs": [
    {
     "data": {
      "image/png": "[encoded data removed]",
      "text/plain": [
       "<Figure size 1200x600 with 1 Axes>"
      ]
     },
     "metadata": {},
     "output_type": "display_data"
    }
   ],
   "source": [
    "import pandas as pd\n",
    "import matplotlib.pyplot as plt\n",
    "\n",
    "# Load the dataset\n",
    "url = \"https://covid.ourworldindata.org/data/owid-covid-data.csv\"\n",
    "df = pd.read_csv(url, parse_dates=['date'])\n",
    "\n",
    "# Filter for selected countries\n",
    "countries = ['United States', 'India', 'Brazil', 'United Kingdom']\n",
    "filtered_df = df[df['location'].isin(countries)]\n",
    "\n",
    "# Plot total vaccinations over time\n",
    "plt.figure(figsize=(12, 6))\n",
    "for country in countries:\n",
    "    country_data = filtered_df[filtered_df['location'] == country]\n",
    "    plt.plot(country_data['date'], country_data['total_vaccinations'], label=country)\n",
    "\n",
    "plt.title('Total COVID-19 Vaccinations Over Time')\n",
    "plt.xlabel('Date')\n",
    "plt.ylabel('Total Vaccinations')\n",
    "plt.legend()\n",
    "plt.grid(True)\n",
    "plt.tight_layout()\n",
    "plt.show()"
   ]
  },
  {
   "cell_type": "markdown",
   "id": "67488547",
   "metadata": {},
   "source": [
    "## 3. Loading Data from Excel Files\n",
    "\n",
    "Excel files are widely used in business and can contain multiple sheets of data. Pandas makes it easy to read Excel files with the `read_excel()` function."
   ]
  },
  {
   "cell_type": "code",
   "execution_count": 8,
   "id": "fea0ffcc",
   "metadata": {},
   "outputs": [
    {
     "name": "stdout",
     "output_type": "stream",
     "text": [
      "Sample Excel file created: sample_data_2.xlsx\n"
     ]
    }
   ],
   "source": [
    "# Let's create a sample Excel file with multiple sheets\n",
    "data1 = {'Name': ['John', 'Anna', 'Peter', 'Linda'],\n",
    "         'Age': [28, 34, 29, 42],\n",
    "         'City': ['New York', 'Paris', 'Berlin', 'London']}\n",
    "\n",
    "data2 = {'Product': ['Laptop', 'Phone', 'Tablet', 'Monitor'],\n",
    "         'Price': [1200, 800, 500, 300],\n",
    "         'Stock': [10, 25, 15, 8]}\n",
    "\n",
    "df1 = pd.DataFrame(data1)\n",
    "df2 = pd.DataFrame(data2)\n",
    "\n",
    "# Write to Excel file with multiple sheets\n",
    "excel_file = \"sample_data_2.xlsx\"\n",
    "with pd.ExcelWriter(excel_file) as writer:\n",
    "    df1.to_excel(writer, sheet_name='People', index=False)\n",
    "    df2.to_excel(writer, sheet_name='Products', index=False)\n",
    "\n",
    "print(f\"Sample Excel file created: {excel_file}\")"
   ]
  },
  {
   "cell_type": "code",
   "execution_count": 9,
   "id": "965b4389",
   "metadata": {},
   "outputs": [
    {
     "name": "stdout",
     "output_type": "stream",
     "text": [
      "Data from 'People' sheet:\n",
      "    Name  Age      City\n",
      "0   John   28  New York\n",
      "1   Anna   34     Paris\n",
      "2  Peter   29    Berlin\n",
      "3  Linda   42    London\n",
      "\n",
      "All sheets loaded as dictionary:\n",
      "\n",
      "Sheet: People\n",
      "    Name  Age      City\n",
      "0   John   28  New York\n",
      "1   Anna   34     Paris\n",
      "2  Peter   29    Berlin\n",
      "3  Linda   42    London\n",
      "\n",
      "Sheet: Products\n",
      "   Product  Price  Stock\n",
      "0   Laptop   1200     10\n",
      "1    Phone    800     25\n",
      "2   Tablet    500     15\n",
      "3  Monitor    300      8\n"
     ]
    }
   ],
   "source": [
    "# Reading a specific sheet\n",
    "people_df = pd.read_excel(excel_file, sheet_name='People')\n",
    "print(\"Data from 'People' sheet:\")\n",
    "print(people_df)\n",
    "\n",
    "# Reading all sheets as a dictionary of DataFrames\n",
    "all_sheets = pd.read_excel(excel_file, sheet_name=None)\n",
    "print(\"\\nAll sheets loaded as dictionary:\")\n",
    "for sheet_name, df in all_sheets.items():\n",
    "    print(f\"\\nSheet: {sheet_name}\")\n",
    "    print(df)"
   ]
  },
  {
   "cell_type": "code",
   "execution_count": 10,
   "id": "3018f022",
   "metadata": {},
   "outputs": [
    {
     "name": "stdout",
     "output_type": "stream",
     "text": [
      "Specific columns from Products sheet:\n",
      "   Product  Price\n",
      "0   Laptop   1200\n",
      "1    Phone    800\n",
      "2   Tablet    500\n",
      "3  Monitor    300\n",
      "\n",
      "Specific rows from Products sheet:\n",
      "   Laptop  1200  10\n",
      "0   Phone   800  25\n",
      "1  Tablet   500  15\n"
     ]
    }
   ],
   "source": [
    "# Reading specific cells or ranges\n",
    "# Read only specific columns\n",
    "products_subset = pd.read_excel(excel_file, \n",
    "                                sheet_name='Products',\n",
    "                                usecols=['Product', 'Price'])\n",
    "print(\"Specific columns from Products sheet:\")\n",
    "print(products_subset)\n",
    "\n",
    "# Read specific rows\n",
    "products_rows = pd.read_excel(excel_file, \n",
    "                              sheet_name='Products',\n",
    "                              skiprows=1,     # Skip header\n",
    "                              nrows=2)        # Read only 2 rows\n",
    "print(\"\\nSpecific rows from Products sheet:\")\n",
    "print(products_rows)"
   ]
  },
  {
   "cell_type": "markdown",
   "id": "6d6e9a2e",
   "metadata": {},
   "source": [
    "## 4. Loading Data from JSON Files\n",
    "\n",
    "JSON (JavaScript Object Notation) is a popular data interchange format. It can represent complex, nested data structures, which pandas can parse into DataFrames."
   ]
  },
  {
   "cell_type": "code",
   "execution_count": 11,
   "id": "74e1ffcf",
   "metadata": {},
   "outputs": [
    {
     "name": "stdout",
     "output_type": "stream",
     "text": [
      "JSON data loaded with json module:\n",
      "Company: Tech Solutions Inc.\n",
      "Number of employees: 3\n",
      "First employee: {'name': 'John', 'age': 30, 'city': 'New York', 'skills': ['Python', 'SQL']}\n"
     ]
    }
   ],
   "source": [
    "# Create sample JSON data\n",
    "json_data = \"\"\"\n",
    "{\n",
    "    \"employees\": [\n",
    "        {\"name\": \"John\", \"age\": 30, \"city\": \"New York\", \"skills\": [\"Python\", \"SQL\"]},\n",
    "        {\"name\": \"Alice\", \"age\": 25, \"city\": \"San Francisco\", \"skills\": [\"JavaScript\", \"React\"]},\n",
    "        {\"name\": \"Bob\", \"age\": 35, \"city\": \"Chicago\", \"skills\": [\"Java\", \"C++\", \"Python\"]}\n",
    "    ],\n",
    "    \"company\": \"Tech Solutions Inc.\",\n",
    "    \"founded\": 2010\n",
    "}\n",
    "\"\"\"\n",
    "\n",
    "# Write JSON to file\n",
    "with open(\"sample_data_2.json\", \"w\") as f:\n",
    "    f.write(json_data)\n",
    "\n",
    "# Parse JSON using the json module\n",
    "with open(\"sample_data_2.json\", \"r\") as f:\n",
    "    data = json.load(f)\n",
    "\n",
    "print(\"JSON data loaded with json module:\")\n",
    "print(f\"Company: {data['company']}\")\n",
    "print(f\"Number of employees: {len(data['employees'])}\")\n",
    "print(f\"First employee: {data['employees'][0]}\")"
   ]
  },
  {
   "cell_type": "code",
   "execution_count": 12,
   "id": "da6421e1",
   "metadata": {},
   "outputs": [],
   "source": [
    "# # Load JSON data into pandas DataFrame\n",
    "# # For simple JSON structures\n",
    "# simple_df = pd.read_json(\"\"\"\n",
    "# [\n",
    "#     {\"name\": \"John\", \"age\": 30, \"city\": \"New York\"},\n",
    "#     {\"name\": \"Alice\", \"age\": 25, \"city\": \"San Francisco\"},\n",
    "#     {\"name\": \"Bob\", \"age\": 35, \"city\": \"Chicago\"}\n",
    "# ]\n",
    "# \"\"\")\n",
    "\n",
    "# print(\"Simple JSON loaded into DataFrame:\")\n",
    "# print(simple_df)\n",
    "\n",
    "# # For nested JSON - we need to normalize it\n",
    "# employees_df = pd.json_normalize(data['employees'])\n",
    "# print(\"\\nNested JSON normalized into DataFrame:\")\n",
    "# print(employees_df)"
   ]
  },
  {
   "cell_type": "markdown",
   "id": "60f100bd-7063-488b-be59-13869b2e04df",
   "metadata": {},
   "source": [
    "```\n",
    "FutureWarning: Passing literal json to 'read_json' is deprecated and will be removed in a future version. To read from a literal string, wrap it in a 'StringIO' object.\n",
    "```"
   ]
  },
  {
   "cell_type": "code",
   "execution_count": 13,
   "id": "9a139800-2d8a-4ae6-924d-07fb248b8f06",
   "metadata": {},
   "outputs": [
    {
     "name": "stdout",
     "output_type": "stream",
     "text": [
      "Simple JSON loaded into DataFrame:\n",
      "    name  age           city\n",
      "0   John   30       New York\n",
      "1  Alice   25  San Francisco\n",
      "2    Bob   35        Chicago\n",
      "\n",
      "Nested JSON normalized into DataFrame:\n",
      "    name  details.age   details.city\n",
      "0   John           30       New York\n",
      "1  Alice           25  San Francisco\n",
      "2    Bob           35        Chicago\n"
     ]
    }
   ],
   "source": [
    "import pandas as pd\n",
    "from io import StringIO\n",
    "\n",
    "# Load JSON data into pandas DataFrame\n",
    "# For simple JSON structures\n",
    "simple_json = StringIO(\"\"\"\n",
    "[\n",
    "    {\"name\": \"John\", \"age\": 30, \"city\": \"New York\"},\n",
    "    {\"name\": \"Alice\", \"age\": 25, \"city\": \"San Francisco\"},\n",
    "    {\"name\": \"Bob\", \"age\": 35, \"city\": \"Chicago\"}\n",
    "]\n",
    "\"\"\")\n",
    "simple_df = pd.read_json(simple_json)\n",
    "\n",
    "print(\"Simple JSON loaded into DataFrame:\")\n",
    "print(simple_df)\n",
    "\n",
    "# For nested JSON - we need to normalize it\n",
    "# Assuming this is your nested JSON:\n",
    "data = {\n",
    "    \"employees\": [\n",
    "        {\"name\": \"John\", \"details\": {\"age\": 30, \"city\": \"New York\"}},\n",
    "        {\"name\": \"Alice\", \"details\": {\"age\": 25, \"city\": \"San Francisco\"}},\n",
    "        {\"name\": \"Bob\", \"details\": {\"age\": 35, \"city\": \"Chicago\"}}\n",
    "    ]\n",
    "}\n",
    "\n",
    "employees_df = pd.json_normalize(data['employees'])\n",
    "print(\"\\nNested JSON normalized into DataFrame:\")\n",
    "print(employees_df)"
   ]
  },
  {
   "cell_type": "code",
   "execution_count": 14,
   "id": "4bb6edee",
   "metadata": {},
   "outputs": [
    {
     "name": "stdout",
     "output_type": "stream",
     "text": [
      "API JSON data loaded into DataFrame:\n",
      "   userId  id                                              title  \\\n",
      "0       1   1  sunt aut facere repellat provident occaecati e...   \n",
      "1       1   2                                       qui est esse   \n",
      "2       1   3  ea molestias quasi exercitationem repellat qui...   \n",
      "3       1   4                               eum et est occaecati   \n",
      "4       1   5                                 nesciunt quas odio   \n",
      "\n",
      "                                                body  \n",
      "0  quia et suscipit\\nsuscipit recusandae consequu...  \n",
      "1  est rerum tempore vitae\\nsequi sint nihil repr...  \n",
      "2  et iusto sed quo iure\\nvoluptatem occaecati om...  \n",
      "3  ullam et saepe reiciendis voluptatem adipisci\\...  \n",
      "4  repudiandae veniam quaerat sunt sed\\nalias aut...  \n",
      "\n",
      "Joined data from multiple JSON sources:\n",
      "   id_post                                              title           name  \\\n",
      "0        1  sunt aut facere repellat provident occaecati e...  Leanne Graham   \n",
      "1        2                                       qui est esse  Leanne Graham   \n",
      "2        3  ea molestias quasi exercitationem repellat qui...  Leanne Graham   \n",
      "3        4                               eum et est occaecati  Leanne Graham   \n",
      "4        5                                 nesciunt quas odio  Leanne Graham   \n",
      "\n",
      "               email  \n",
      "0  Sincere@april.biz  \n",
      "1  Sincere@april.biz  \n",
      "2  Sincere@april.biz  \n",
      "3  Sincere@april.biz  \n",
      "4  Sincere@april.biz  \n"
     ]
    }
   ],
   "source": [
    "# JSON with nested arrays and objects\n",
    "# Fetch posts from JSONPlaceholder API\n",
    "response = requests.get('https://jsonplaceholder.typicode.com/posts')\n",
    "posts_data = response.json()\n",
    "\n",
    "# Convert to DataFrame\n",
    "posts_df = pd.DataFrame(posts_data)\n",
    "print(\"API JSON data loaded into DataFrame:\")\n",
    "print(posts_df.head())\n",
    "\n",
    "# Get user data for each post\n",
    "response = requests.get('https://jsonplaceholder.typicode.com/users')\n",
    "users_data = response.json()\n",
    "users_df = pd.DataFrame(users_data)\n",
    "\n",
    "# Create a simplified users reference dataframe\n",
    "users_simple = users_df[['id', 'name', 'email']]\n",
    "\n",
    "# Join posts with user info\n",
    "posts_with_users = posts_df.merge(users_simple, left_on='userId', right_on='id', suffixes=('_post', '_user'))\n",
    "print(\"\\nJoined data from multiple JSON sources:\")\n",
    "print(posts_with_users[['id_post', 'title', 'name', 'email']].head())"
   ]
  },
  {
   "cell_type": "markdown",
   "id": "9ca60ca1",
   "metadata": {},
   "source": [
    "## 5. Handling Different File Encodings\n",
    "\n",
    "Files can come with different encodings, especially when dealing with international data. Let's see how to handle various encoding issues."
   ]
  },
  {
   "cell_type": "code",
   "execution_count": 15,
   "id": "2c854258",
   "metadata": {},
   "outputs": [
    {
     "name": "stdout",
     "output_type": "stream",
     "text": [
      "Successfully read with default encoding from file encoded as utf-8:\n",
      "   column1  column2 column3\n",
      "0        1        2    café\n",
      "1        4        5  résumé\n",
      "2        7        8    spaß\n",
      "Failed to read with default encoding from file encoded as latin-1\n",
      "Successfully read with explicit latin-1 encoding:\n",
      "   column1  column2 column3\n",
      "0        1        2    café\n",
      "1        4        5  résumé\n",
      "2        7        8    spaß\n",
      "Failed to read with default encoding from file encoded as cp1252\n",
      "Successfully read with explicit cp1252 encoding:\n",
      "   column1  column2 column3\n",
      "0        1        2    café\n",
      "1        4        5  résumé\n",
      "2        7        8    spaß\n"
     ]
    }
   ],
   "source": [
    "# Create sample data with non-ASCII characters\n",
    "text_data = \"\"\"column1,column2,column3\n",
    "1,2,café\n",
    "4,5,résumé\n",
    "7,8,spaß\n",
    "\"\"\"\n",
    "\n",
    "# Write with different encodings\n",
    "encodings = ['utf-8', 'latin-1', 'cp1252']\n",
    "for encoding in encodings:\n",
    "    with open(f\"encoding_{encoding}.csv\", \"w\", encoding=encoding) as f:\n",
    "        f.write(text_data)\n",
    "    \n",
    "    # Try to read it back\n",
    "    try:\n",
    "        df = pd.read_csv(f\"encoding_{encoding}.csv\")\n",
    "        print(f\"Successfully read with default encoding from file encoded as {encoding}:\")\n",
    "        print(df)\n",
    "    except UnicodeDecodeError:\n",
    "        print(f\"Failed to read with default encoding from file encoded as {encoding}\")\n",
    "        \n",
    "        # Try with explicit encoding\n",
    "        df = pd.read_csv(f\"encoding_{encoding}.csv\", encoding=encoding)\n",
    "        print(f\"Successfully read with explicit {encoding} encoding:\")\n",
    "        print(df)\n",
    "\n",
    "# Clean up files\n",
    "# for encoding in encodings:\n",
    "    # os.remove(f\"encoding_{encoding}.csv\")"
   ]
  },
  {
   "cell_type": "markdown",
   "id": "35d40e77",
   "metadata": {},
   "source": [
    "## 6. Working with Remote Data Sources\n",
    "\n",
    "Many datasets are available online through URLs and APIs. Let's explore how to load data directly from remote sources."
   ]
  },
  {
   "cell_type": "code",
   "execution_count": 16,
   "id": "4b9e6e83",
   "metadata": {},
   "outputs": [
    {
     "name": "stdout",
     "output_type": "stream",
     "text": [
      "Data loaded directly from GitHub URL:\n",
      "Shape: (56, 8)\n",
      "                 airline  avail_seat_km_per_week  incidents_85_99  \\\n",
      "0             Aer Lingus               320906734                2   \n",
      "1              Aeroflot*              1197672318               76   \n",
      "2  Aerolineas Argentinas               385803648                6   \n",
      "3            Aeromexico*               596871813                3   \n",
      "4             Air Canada              1865253802                2   \n",
      "\n",
      "   fatal_accidents_85_99  fatalities_85_99  incidents_00_14  \\\n",
      "0                      0                 0                0   \n",
      "1                     14               128                6   \n",
      "2                      0                 0                1   \n",
      "3                      1                64                5   \n",
      "4                      0                 0                2   \n",
      "\n",
      "   fatal_accidents_00_14  fatalities_00_14  \n",
      "0                      0                 0  \n",
      "1                      1                88  \n",
      "2                      0                 0  \n",
      "3                      0                 0  \n",
      "4                      0                 0  \n"
     ]
    }
   ],
   "source": [
    "# Reading directly from URLs\n",
    "url = \"https://raw.githubusercontent.com/fivethirtyeight/data/master/airline-safety/airline-safety.csv\"\n",
    "airlines_df = pd.read_csv(url)\n",
    "\n",
    "print(\"Data loaded directly from GitHub URL:\")\n",
    "print(f\"Shape: {airlines_df.shape}\")\n",
    "print(airlines_df.head())"
   ]
  },
  {
   "cell_type": "code",
   "execution_count": 17,
   "id": "2cbff3ba",
   "metadata": {},
   "outputs": [
    {
     "name": "stdout",
     "output_type": "stream",
     "text": [
      "Data from API:\n",
      "{\n",
      "    \"timestamp\": 1744734886,\n",
      "    \"message\": \"success\",\n",
      "    \"iss_position\": {\n",
      "        \"latitude\": \"-44.8389\",\n",
      "        \"longitude\": \"35.7556\"\n",
      "    }\n",
      "}\n",
      "\n",
      "Converted to DataFrame:\n",
      "    timestamp  latitude  longitude            datetime\n",
      "0  1744734886  -44.8389    35.7556 2025-04-15 16:34:46\n"
     ]
    }
   ],
   "source": [
    "# Loading data from an API\n",
    "# Let's use the Open Notify API to get the current position of the ISS\n",
    "response = requests.get(\"http://api.open-notify.org/iss-now.json\")\n",
    "iss_data = response.json()\n",
    "\n",
    "print(\"Data from API:\")\n",
    "print(json.dumps(iss_data, indent=4))\n",
    "\n",
    "# Convert to DataFrame\n",
    "iss_df = pd.DataFrame({\n",
    "    'timestamp': [iss_data['timestamp']],\n",
    "    'latitude': [float(iss_data['iss_position']['latitude'])],\n",
    "    'longitude': [float(iss_data['iss_position']['longitude'])]\n",
    "})\n",
    "iss_df['datetime'] = pd.to_datetime(iss_df['timestamp'], unit='s')\n",
    "\n",
    "print(\"\\nConverted to DataFrame:\")\n",
    "print(iss_df)"
   ]
  },
  {
   "cell_type": "code",
   "execution_count": 18,
   "id": "e5ed3875",
   "metadata": {},
   "outputs": [
    {
     "name": "stdout",
     "output_type": "stream",
     "text": [
      "CSV loaded in memory without saving to disk:\n",
      "Shape: (52, 4)\n",
      "   Rank       State Postal  Population\n",
      "0     1     Alabama     AL   4849377.0\n",
      "1     2      Alaska     AK    736732.0\n",
      "2     3     Arizona     AZ   6731484.0\n",
      "3     4    Arkansas     AR   2966369.0\n",
      "4     5  California     CA  38802500.0\n"
     ]
    }
   ],
   "source": [
    "# Loading data in memory without saving to disk\n",
    "url = \"https://raw.githubusercontent.com/plotly/datasets/master/2014_usa_states.csv\"\n",
    "response = requests.get(url)\n",
    "\n",
    "# If the response was successful, create a file-like object in memory\n",
    "if response.status_code == 200:\n",
    "    # Create a file-like object from the response content\n",
    "    csv_file = io.StringIO(response.text)\n",
    "    \n",
    "    # Read the CSV into a pandas DataFrame\n",
    "    states_df = pd.read_csv(csv_file)\n",
    "    \n",
    "    print(\"CSV loaded in memory without saving to disk:\")\n",
    "    print(f\"Shape: {states_df.shape}\")\n",
    "    print(states_df.head())\n",
    "else:\n",
    "    print(f\"Failed to fetch data: {response.status_code}\")"
   ]
  },
  {
   "cell_type": "markdown",
   "id": "5e4cc1d8",
   "metadata": {},
   "source": [
    "## 7. Comparing Data Loading Methods\n",
    "\n",
    "Let's compare the performance of different loading methods, especially for larger datasets."
   ]
  },
  {
   "cell_type": "code",
   "execution_count": 19,
   "id": "42930cb9",
   "metadata": {},
   "outputs": [
    {
     "name": "stdout",
     "output_type": "stream",
     "text": [
      "diamonds.csv already exists\n",
      "File size: 2.63 MB\n"
     ]
    }
   ],
   "source": [
    "# Download a larger dataset for benchmarking\n",
    "url = \"https://raw.githubusercontent.com/vincentarelbundock/Rdatasets/master/csv/ggplot2/diamonds.csv\"\n",
    "diamonds_path = \"diamonds.csv\"\n",
    "\n",
    "# Download the file only if it doesn't exist\n",
    "if not os.path.exists(diamonds_path):\n",
    "    response = requests.get(url)\n",
    "    with open(diamonds_path, 'wb') as f:\n",
    "        f.write(response.content)\n",
    "    print(f\"Downloaded {diamonds_path}\")\n",
    "else:\n",
    "    print(f\"{diamonds_path} already exists\")\n",
    "\n",
    "# Get file size\n",
    "file_size = os.path.getsize(diamonds_path) / (1024 * 1024)  # Convert to MB\n",
    "print(f\"File size: {file_size:.2f} MB\")"
   ]
  },
  {
   "cell_type": "code",
   "execution_count": 20,
   "id": "a9f1e2ee",
   "metadata": {},
   "outputs": [
    {
     "name": "stdout",
     "output_type": "stream",
     "text": [
      "Standard read_csv: 0.059 seconds\n",
      "With specified dtypes: 0.062 seconds\n",
      "Using chunks: 0.107 seconds\n",
      "\n",
      "Memory usage:\n",
      "Standard: 4.53 MB\n",
      "With dtypes: 3.09 MB\n",
      "Chunked: 4.53 MB\n"
     ]
    }
   ],
   "source": [
    "# Benchmark different loading methods\n",
    "\n",
    "# Method 1: Standard read_csv\n",
    "start_time = time.time()\n",
    "df_standard = pd.read_csv(diamonds_path)\n",
    "standard_time = time.time() - start_time\n",
    "print(f\"Standard read_csv: {standard_time:.3f} seconds\")\n",
    "\n",
    "# Method 2: Using specific dtypes for columns\n",
    "dtypes = {\n",
    "    'carat': 'float32', \n",
    "    'depth': 'float32', \n",
    "    'table': 'float32', \n",
    "    'price': 'int32', \n",
    "    'x': 'float32',\n",
    "    'y': 'float32',\n",
    "    'z': 'float32'\n",
    "}\n",
    "\n",
    "start_time = time.time()\n",
    "df_dtypes = pd.read_csv(diamonds_path, dtype=dtypes)\n",
    "dtypes_time = time.time() - start_time\n",
    "print(f\"With specified dtypes: {dtypes_time:.3f} seconds\")\n",
    "\n",
    "# Method 3: Using chunking\n",
    "start_time = time.time()\n",
    "chunks = []\n",
    "for chunk in pd.read_csv(diamonds_path, chunksize=5000):\n",
    "    chunks.append(chunk)\n",
    "df_chunked = pd.concat(chunks)\n",
    "chunk_time = time.time() - start_time\n",
    "print(f\"Using chunks: {chunk_time:.3f} seconds\")\n",
    "\n",
    "# Compare memory usage\n",
    "print(\"\\nMemory usage:\")\n",
    "print(f\"Standard: {df_standard.memory_usage().sum() / 1024**2:.2f} MB\")\n",
    "print(f\"With dtypes: {df_dtypes.memory_usage().sum() / 1024**2:.2f} MB\")\n",
    "print(f\"Chunked: {df_chunked.memory_usage().sum() / 1024**2:.2f} MB\")"
   ]
  },
  {
   "cell_type": "markdown",
   "id": "b5e7bb38",
   "metadata": {},
   "source": [
    "## 8. Saving Data to Different Formats\n",
    "\n",
    "After loading and processing data, you often need to save it in different formats. Let's see how to convert between formats."
   ]
  },
  {
   "cell_type": "code",
   "execution_count": 21,
   "id": "84255e87",
   "metadata": {},
   "outputs": [
    {
     "name": "stdout",
     "output_type": "stream",
     "text": [
      "Airlines dataset:\n",
      "                 airline  avail_seat_km_per_week  incidents_85_99  \\\n",
      "0             Aer Lingus               320906734                2   \n",
      "1              Aeroflot*              1197672318               76   \n",
      "2  Aerolineas Argentinas               385803648                6   \n",
      "3            Aeromexico*               596871813                3   \n",
      "4             Air Canada              1865253802                2   \n",
      "\n",
      "   fatal_accidents_85_99  fatalities_85_99  incidents_00_14  \\\n",
      "0                      0                 0                0   \n",
      "1                     14               128                6   \n",
      "2                      0                 0                1   \n",
      "3                      1                64                5   \n",
      "4                      0                 0                2   \n",
      "\n",
      "   fatal_accidents_00_14  fatalities_00_14  \n",
      "0                      0                 0  \n",
      "1                      1                88  \n",
      "2                      0                 0  \n",
      "3                      0                 0  \n",
      "4                      0                 0  \n",
      "\n",
      "Saved to airlines_exported.csv\n",
      "Saved to airlines_exported.xlsx\n",
      "Saved to airlines_exported.json\n",
      "Saved to airlines_exported.pkl\n",
      "Saved to airlines_exported.parquet\n",
      "\n",
      "File size comparison:\n",
      "airlines_exported.csv: 2.27 KB\n",
      "airlines_exported.xlsx: 7.52 KB\n",
      "airlines_exported.json: 10.88 KB\n",
      "airlines_exported.pkl: 4.79 KB\n",
      "airlines_exported.parquet: 7.64 KB\n"
     ]
    }
   ],
   "source": [
    "# Let's use the airlines dataset we loaded earlier\n",
    "# First, let's look at the data\n",
    "print(\"Airlines dataset:\")\n",
    "print(airlines_df.head())\n",
    "\n",
    "# Save to CSV\n",
    "airlines_df.to_csv(\"airlines_exported.csv\", index=False)\n",
    "print(\"\\nSaved to airlines_exported.csv\")\n",
    "\n",
    "# Save to Excel\n",
    "airlines_df.to_excel(\"airlines_exported.xlsx\", sheet_name=\"Safety Data\", index=False)\n",
    "print(\"Saved to airlines_exported.xlsx\")\n",
    "\n",
    "# Save to JSON\n",
    "airlines_df.to_json(\"airlines_exported.json\", orient=\"records\")\n",
    "print(\"Saved to airlines_exported.json\")\n",
    "\n",
    "# Save to pickle (Python serialized format)\n",
    "airlines_df.to_pickle(\"airlines_exported.pkl\")\n",
    "print(\"Saved to airlines_exported.pkl\")\n",
    "\n",
    "# Save to parquet (columnar storage format - good for big data)\n",
    "airlines_df.to_parquet(\"airlines_exported.parquet\")\n",
    "print(\"Saved to airlines_exported.parquet\")\n",
    "\n",
    "# Compare file sizes\n",
    "files = [\n",
    "    \"airlines_exported.csv\",\n",
    "    \"airlines_exported.xlsx\", \n",
    "    \"airlines_exported.json\",\n",
    "    \"airlines_exported.pkl\",\n",
    "    \"airlines_exported.parquet\"\n",
    "]\n",
    "\n",
    "print(\"\\nFile size comparison:\")\n",
    "for file in files:\n",
    "    size_kb = os.path.getsize(file) / 1024\n",
    "    print(f\"{file}: {size_kb:.2f} KB\")"
   ]
  },
  {
   "cell_type": "code",
   "execution_count": 22,
   "id": "ef5574fe",
   "metadata": {},
   "outputs": [
    {
     "name": "stdout",
     "output_type": "stream",
     "text": [
      "Verifying data integrity across formats:\n",
      "Original shape: (56, 8)\n",
      "CSV shape: (56, 8)\n",
      "Excel shape: (56, 8)\n",
      "JSON shape: (56, 8)\n",
      "Pickle shape: (56, 8)\n",
      "Parquet shape: (56, 8)\n",
      "\n",
      "Temporary files cleaned up\n"
     ]
    }
   ],
   "source": [
    "# Load the data back from these formats to verify\n",
    "csv_df = pd.read_csv(\"airlines_exported.csv\")\n",
    "excel_df = pd.read_excel(\"airlines_exported.xlsx\")\n",
    "json_df = pd.read_json(\"airlines_exported.json\", orient=\"records\")\n",
    "pickle_df = pd.read_pickle(\"airlines_exported.pkl\")\n",
    "parquet_df = pd.read_parquet(\"airlines_exported.parquet\")\n",
    "\n",
    "# Check that all the data is the same\n",
    "formats = {\n",
    "    \"Original\": airlines_df,\n",
    "    \"CSV\": csv_df,\n",
    "    \"Excel\": excel_df,\n",
    "    \"JSON\": json_df,\n",
    "    \"Pickle\": pickle_df,\n",
    "    \"Parquet\": parquet_df\n",
    "}\n",
    "\n",
    "print(\"Verifying data integrity across formats:\")\n",
    "for name, df in formats.items():\n",
    "    print(f\"{name} shape: {df.shape}\")\n",
    "\n",
    "# Clean up files\n",
    "# for file in files:\n",
    "    # os.remove(file)\n",
    "# os.remove(diamonds_path)\n",
    "# os.remove(excel_file)\n",
    "# os.remove(\"sample_data_2.json\")\n",
    "\n",
    "print(\"\\nTemporary files cleaned up\")"
   ]
  },
  {
   "cell_type": "markdown",
   "id": "7c18ff0f",
   "metadata": {},
   "source": [
    "## 9. Summary and Best Practices\n",
    "\n",
    "In this notebook, we've explored various methods to load data from different file formats:\n",
    "\n",
    "1. **CSV files** - Using `pd.read_csv()` with various options for delimiters, encodings, and chunking\n",
    "2. **Excel files** - Using `pd.read_excel()` to read specific sheets and ranges\n",
    "3. **JSON files** - Using `pd.read_json()` and `json.load()` for different JSON structures\n",
    "4. **Remote data** - Loading data directly from URLs and APIs\n",
    "5. **Different encodings** - Handling files with various character encodings\n",
    "6. **Performance optimizations** - Using dtypes and chunking for faster loading\n",
    "7. **Saving data** - Converting between different file formats\n",
    "\n",
    "### Best Practices:\n",
    "\n",
    "- **Specify dtypes** when loading large datasets to reduce memory usage\n",
    "- **Use chunking** for very large files that don't fit in memory\n",
    "- **Handle encodings explicitly** when working with international data\n",
    "- **Consider compression** for large files (e.g., `pd.read_csv(\"file.csv.gz\")`)\n",
    "- **Use appropriate file formats** for your use case (Parquet for large data, CSV for compatibility)\n",
    "- **Include error handling** when loading from remote sources"
   ]
  }
 ],
 "metadata": {
  "kernelspec": {
   "display_name": "Python 3 (ipykernel)",
   "language": "python",
   "name": "python3"
  },
  "language_info": {
   "codemirror_mode": {
    "name": "ipython",
    "version": 3
   },
   "file_extension": ".py",
   "mimetype": "text/x-python",
   "name": "python",
   "nbconvert_exporter": "python",
   "pygments_lexer": "ipython3",
   "version": "3.13.2"
  }
 },
 "nbformat": 4,
 "nbformat_minor": 5
}
